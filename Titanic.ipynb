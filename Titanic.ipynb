{
  "cells": [
    {
      "cell_type": "markdown",
      "metadata": {
        "id": "ertGU3_dmeGa"
      },
      "source": [
        "Video Part 1: https://www.youtube.com/watch?v=6IGx7ZZdS74\n",
        "Video Part 2: https://www.youtube.com/watch?v=KzK1pifa2Vk&ab_channel=RyanNolanData"
      ]
    },
    {
      "cell_type": "markdown",
      "metadata": {
        "id": "HcHSURBhmeGb"
      },
      "source": [
        "Import Libraries"
      ]
    },
    {
      "cell_type": "code",
      "execution_count": null,
      "metadata": {
        "id": "HRoG_bW-meGc"
      },
      "outputs": [],
      "source": [
        "import pandas as pd\n",
        "import numpy as np\n",
        "\n",
        "import seaborn as sns\n",
        "import matplotlib.pyplot as plt\n",
        "%matplotlib inline\n",
        "\n",
        "from sklearn.preprocessing import OrdinalEncoder, OneHotEncoder\n",
        "\n",
        "from sklearn.impute import SimpleImputer\n",
        "\n",
        "from sklearn.compose import make_column_transformer, ColumnTransformer\n",
        "from sklearn.pipeline import Pipeline, make_pipeline\n",
        "\n",
        "from sklearn.linear_model import LogisticRegression\n",
        "from sklearn.svm import SVC\n",
        "from sklearn.tree import DecisionTreeClassifier\n",
        "from sklearn.neighbors import KNeighborsClassifier\n",
        "from sklearn.naive_bayes import GaussianNB\n",
        "from xgboost import XGBClassifier\n",
        "from sklearn.ensemble import RandomForestClassifier, AdaBoostClassifier, GradientBoostingClassifier, ExtraTreesClassifier, VotingClassifier\n",
        "\n",
        "\n",
        "from sklearn.model_selection import cross_val_score, StratifiedKFold, train_test_split, GridSearchCV"
      ]
    },
    {
      "cell_type": "markdown",
      "metadata": {
        "id": "ilvzHfdameGc"
      },
      "source": [
        "Bring in Train and Test Datasets"
      ]
    },
    {
      "cell_type": "code",
      "execution_count": null,
      "metadata": {
        "execution": {
          "iopub.execute_input": "2023-10-01T16:09:09.226183Z",
          "iopub.status.busy": "2023-10-01T16:09:09.225348Z",
          "iopub.status.idle": "2023-10-01T16:09:09.253534Z",
          "shell.execute_reply": "2023-10-01T16:09:09.252336Z",
          "shell.execute_reply.started": "2023-10-01T16:09:09.226143Z"
        },
        "id": "uD46JNZzmeGd",
        "trusted": true
      },
      "outputs": [],
      "source": [
        "train_df = pd.read_csv('/kaggle/input/titanic/train.csv')\n",
        "test_df = pd.read_csv('/kaggle/input/titanic/test.csv')"
      ]
    },
    {
      "cell_type": "code",
      "execution_count": null,
      "metadata": {
        "execution": {
          "iopub.execute_input": "2023-10-01T16:09:09.256614Z",
          "iopub.status.busy": "2023-10-01T16:09:09.256197Z",
          "iopub.status.idle": "2023-10-01T16:09:09.286864Z",
          "shell.execute_reply": "2023-10-01T16:09:09.285537Z",
          "shell.execute_reply.started": "2023-10-01T16:09:09.256566Z"
        },
        "id": "HfRm4aPnmeGd",
        "trusted": true
      },
      "outputs": [],
      "source": [
        "train_df.head()"
      ]
    },
    {
      "cell_type": "code",
      "execution_count": null,
      "metadata": {
        "execution": {
          "iopub.execute_input": "2023-10-01T16:09:09.289273Z",
          "iopub.status.busy": "2023-10-01T16:09:09.288267Z",
          "iopub.status.idle": "2023-10-01T16:09:09.319403Z",
          "shell.execute_reply": "2023-10-01T16:09:09.318366Z",
          "shell.execute_reply.started": "2023-10-01T16:09:09.289231Z"
        },
        "id": "qAH4lqKjmeGe",
        "trusted": true
      },
      "outputs": [],
      "source": [
        "train_df.info()"
      ]
    },
    {
      "cell_type": "code",
      "execution_count": null,
      "metadata": {
        "execution": {
          "iopub.execute_input": "2023-10-01T16:09:09.321665Z",
          "iopub.status.busy": "2023-10-01T16:09:09.321035Z",
          "iopub.status.idle": "2023-10-01T16:09:09.351588Z",
          "shell.execute_reply": "2023-10-01T16:09:09.350592Z",
          "shell.execute_reply.started": "2023-10-01T16:09:09.321627Z"
        },
        "id": "A6GUP9ptmeGe",
        "trusted": true
      },
      "outputs": [],
      "source": [
        "train_df.describe()"
      ]
    },
    {
      "cell_type": "code",
      "execution_count": null,
      "metadata": {
        "execution": {
          "iopub.execute_input": "2023-10-01T16:09:09.353878Z",
          "iopub.status.busy": "2023-10-01T16:09:09.352898Z",
          "iopub.status.idle": "2023-10-01T16:09:09.374087Z",
          "shell.execute_reply": "2023-10-01T16:09:09.373025Z",
          "shell.execute_reply.started": "2023-10-01T16:09:09.353838Z"
        },
        "id": "HRkSwQnbmeGe",
        "trusted": true
      },
      "outputs": [],
      "source": [
        "train_df.describe(include=['O'])"
      ]
    },
    {
      "cell_type": "code",
      "execution_count": null,
      "metadata": {
        "execution": {
          "iopub.execute_input": "2023-10-01T16:09:09.376679Z",
          "iopub.status.busy": "2023-10-01T16:09:09.375872Z",
          "iopub.status.idle": "2023-10-01T16:09:09.392391Z",
          "shell.execute_reply": "2023-10-01T16:09:09.39128Z",
          "shell.execute_reply.started": "2023-10-01T16:09:09.376637Z"
        },
        "id": "Rgc1NbsvmeGe",
        "trusted": true
      },
      "outputs": [],
      "source": [
        "train_df.groupby(['Pclass'], as_index=False)['Survived'].mean()"
      ]
    },
    {
      "cell_type": "code",
      "execution_count": null,
      "metadata": {
        "execution": {
          "iopub.execute_input": "2023-10-01T16:09:09.394223Z",
          "iopub.status.busy": "2023-10-01T16:09:09.393692Z",
          "iopub.status.idle": "2023-10-01T16:09:09.417738Z",
          "shell.execute_reply": "2023-10-01T16:09:09.416716Z",
          "shell.execute_reply.started": "2023-10-01T16:09:09.394193Z"
        },
        "id": "pl25S0LImeGe",
        "trusted": true
      },
      "outputs": [],
      "source": [
        "train_df.groupby(['Sex'], as_index=False)['Survived'].mean()"
      ]
    },
    {
      "cell_type": "code",
      "execution_count": null,
      "metadata": {
        "execution": {
          "iopub.execute_input": "2023-10-01T16:09:09.42264Z",
          "iopub.status.busy": "2023-10-01T16:09:09.421984Z",
          "iopub.status.idle": "2023-10-01T16:09:09.444907Z",
          "shell.execute_reply": "2023-10-01T16:09:09.444002Z",
          "shell.execute_reply.started": "2023-10-01T16:09:09.422603Z"
        },
        "id": "2EDDDatNmeGe",
        "trusted": true
      },
      "outputs": [],
      "source": [
        "train_df.groupby(['SibSp'], as_index=False)['Survived'].mean()"
      ]
    },
    {
      "cell_type": "code",
      "execution_count": null,
      "metadata": {
        "execution": {
          "iopub.execute_input": "2023-10-01T16:09:09.447095Z",
          "iopub.status.busy": "2023-10-01T16:09:09.446452Z",
          "iopub.status.idle": "2023-10-01T16:09:09.467664Z",
          "shell.execute_reply": "2023-10-01T16:09:09.466596Z",
          "shell.execute_reply.started": "2023-10-01T16:09:09.447049Z"
        },
        "id": "JjoZ7gzGmeGe",
        "trusted": true
      },
      "outputs": [],
      "source": [
        "train_df.groupby(['Parch'], as_index=False)['Survived'].mean()"
      ]
    },
    {
      "cell_type": "code",
      "execution_count": null,
      "metadata": {
        "execution": {
          "iopub.execute_input": "2023-10-01T16:09:09.469889Z",
          "iopub.status.busy": "2023-10-01T16:09:09.469209Z",
          "iopub.status.idle": "2023-10-01T16:09:09.482147Z",
          "shell.execute_reply": "2023-10-01T16:09:09.481074Z",
          "shell.execute_reply.started": "2023-10-01T16:09:09.46985Z"
        },
        "id": "o3bOE8OsmeGf",
        "trusted": true
      },
      "outputs": [],
      "source": [
        "train_df['Family_Size'] = train_df['SibSp'] + train_df['Parch'] + 1\n",
        "test_df['Family_Size'] = test_df['SibSp'] + test_df['Parch'] + 1"
      ]
    },
    {
      "cell_type": "code",
      "execution_count": null,
      "metadata": {
        "execution": {
          "iopub.execute_input": "2023-10-01T16:09:09.484163Z",
          "iopub.status.busy": "2023-10-01T16:09:09.483761Z",
          "iopub.status.idle": "2023-10-01T16:09:09.504267Z",
          "shell.execute_reply": "2023-10-01T16:09:09.503087Z",
          "shell.execute_reply.started": "2023-10-01T16:09:09.484128Z"
        },
        "id": "7GRXB38WmeGf",
        "trusted": true
      },
      "outputs": [],
      "source": [
        "train_df.groupby(['Family_Size'], as_index=False)['Survived'].mean()"
      ]
    },
    {
      "cell_type": "code",
      "execution_count": null,
      "metadata": {
        "execution": {
          "iopub.execute_input": "2023-10-01T16:09:09.505724Z",
          "iopub.status.busy": "2023-10-01T16:09:09.505418Z",
          "iopub.status.idle": "2023-10-01T16:09:09.52356Z",
          "shell.execute_reply": "2023-10-01T16:09:09.522502Z",
          "shell.execute_reply.started": "2023-10-01T16:09:09.505699Z"
        },
        "id": "B_tLXVOimeGf",
        "trusted": true
      },
      "outputs": [],
      "source": [
        "family_map = {1: 'Alone', 2: 'Small', 3: 'Small', 4: 'Small', 5: 'Medium', 6: 'Medium', 7: 'Large', 8: 'Large', 11: 'Large'}\n",
        "train_df['Family_Size_Grouped'] = train_df['Family_Size'].map(family_map)\n",
        "test_df['Family_Size_Grouped'] = train_df['Family_Size'].map(family_map)"
      ]
    },
    {
      "cell_type": "code",
      "execution_count": null,
      "metadata": {
        "execution": {
          "iopub.execute_input": "2023-10-01T16:09:09.525257Z",
          "iopub.status.busy": "2023-10-01T16:09:09.524517Z",
          "iopub.status.idle": "2023-10-01T16:09:09.549274Z",
          "shell.execute_reply": "2023-10-01T16:09:09.548537Z",
          "shell.execute_reply.started": "2023-10-01T16:09:09.52523Z"
        },
        "id": "Z8T7lFLGmeGf",
        "trusted": true
      },
      "outputs": [],
      "source": [
        "train_df.groupby(['Family_Size_Grouped'], as_index=False)['Survived'].mean()"
      ]
    },
    {
      "cell_type": "code",
      "execution_count": null,
      "metadata": {
        "execution": {
          "iopub.execute_input": "2023-10-01T16:09:09.550833Z",
          "iopub.status.busy": "2023-10-01T16:09:09.55022Z",
          "iopub.status.idle": "2023-10-01T16:09:09.575876Z",
          "shell.execute_reply": "2023-10-01T16:09:09.574647Z",
          "shell.execute_reply.started": "2023-10-01T16:09:09.550784Z"
        },
        "id": "FFdiHcegmeGf",
        "trusted": true
      },
      "outputs": [],
      "source": [
        "train_df.groupby(['Embarked'], as_index=False)['Survived'].mean()"
      ]
    },
    {
      "cell_type": "code",
      "execution_count": null,
      "metadata": {
        "execution": {
          "iopub.execute_input": "2023-10-01T16:09:09.578197Z",
          "iopub.status.busy": "2023-10-01T16:09:09.577159Z",
          "iopub.status.idle": "2023-10-01T16:09:10.348971Z",
          "shell.execute_reply": "2023-10-01T16:09:10.347893Z",
          "shell.execute_reply.started": "2023-10-01T16:09:09.57816Z"
        },
        "id": "pzENnFEZmeGf",
        "trusted": true
      },
      "outputs": [],
      "source": [
        "sns.displot(train_df, x='Age', col='Survived', binwidth=10, height=5)"
      ]
    },
    {
      "cell_type": "code",
      "execution_count": null,
      "metadata": {
        "execution": {
          "iopub.execute_input": "2023-10-01T16:09:10.350523Z",
          "iopub.status.busy": "2023-10-01T16:09:10.350196Z",
          "iopub.status.idle": "2023-10-01T16:09:10.366454Z",
          "shell.execute_reply": "2023-10-01T16:09:10.365381Z",
          "shell.execute_reply.started": "2023-10-01T16:09:10.350497Z"
        },
        "id": "i54yqaLemeGf",
        "trusted": true
      },
      "outputs": [],
      "source": [
        "train_df['Age_Cut'] = pd.qcut(train_df['Age'], 5)\n",
        "test_df['Age_Cut'] = pd.qcut(test_df['Age'], 5)"
      ]
    },
    {
      "cell_type": "code",
      "execution_count": null,
      "metadata": {
        "execution": {
          "iopub.execute_input": "2023-10-01T16:09:10.368699Z",
          "iopub.status.busy": "2023-10-01T16:09:10.368006Z",
          "iopub.status.idle": "2023-10-01T16:09:10.382626Z",
          "shell.execute_reply": "2023-10-01T16:09:10.381485Z",
          "shell.execute_reply.started": "2023-10-01T16:09:10.36866Z"
        },
        "id": "nNPCAJyNmeGf",
        "trusted": true
      },
      "outputs": [],
      "source": [
        "train_df.groupby(['Age_Cut'], as_index=False)['Survived'].mean()"
      ]
    },
    {
      "cell_type": "code",
      "execution_count": null,
      "metadata": {
        "execution": {
          "iopub.execute_input": "2023-10-01T16:09:10.385221Z",
          "iopub.status.busy": "2023-10-01T16:09:10.384029Z",
          "iopub.status.idle": "2023-10-01T16:09:10.413724Z",
          "shell.execute_reply": "2023-10-01T16:09:10.412951Z",
          "shell.execute_reply.started": "2023-10-01T16:09:10.385168Z"
        },
        "id": "fvL5tIytmeGf",
        "trusted": true
      },
      "outputs": [],
      "source": [
        "train_df.loc[train_df['Age'] <= 19, 'Age'] = 0\n",
        "train_df.loc[(train_df['Age'] > 19) & (train_df['Age'] <= 25), 'Age'] = 1\n",
        "train_df.loc[(train_df['Age'] > 25) & (train_df['Age'] <= 31.8), 'Age'] = 2\n",
        "train_df.loc[(train_df['Age'] > 31.8) & (train_df['Age'] <= 41), 'Age'] = 3\n",
        "train_df.loc[(train_df['Age'] > 41) & (train_df['Age'] <= 80), 'Age'] = 4\n",
        "train_df.loc[train_df['Age'] > 80, 'Age']\n",
        "\n",
        "test_df.loc[test_df['Age'] <= 19, 'Age'] = 0\n",
        "test_df.loc[(test_df['Age'] > 19) & (test_df['Age'] <= 25), 'Age'] = 1\n",
        "test_df.loc[(test_df['Age'] > 25) & (test_df['Age'] <= 31.8), 'Age'] = 2\n",
        "test_df.loc[(test_df['Age'] > 31.8) & (test_df['Age'] <= 41), 'Age'] = 3\n",
        "test_df.loc[(test_df['Age'] > 41) & (test_df['Age'] <= 80), 'Age'] = 4\n",
        "test_df.loc[test_df['Age'] > 80, 'Age']"
      ]
    },
    {
      "cell_type": "code",
      "execution_count": null,
      "metadata": {
        "execution": {
          "iopub.execute_input": "2023-10-01T16:09:10.415457Z",
          "iopub.status.busy": "2023-10-01T16:09:10.414678Z",
          "iopub.status.idle": "2023-10-01T16:09:10.432442Z",
          "shell.execute_reply": "2023-10-01T16:09:10.431232Z",
          "shell.execute_reply.started": "2023-10-01T16:09:10.415429Z"
        },
        "id": "JJjAZcuAmeGf",
        "trusted": true
      },
      "outputs": [],
      "source": [
        "train_df.head()"
      ]
    },
    {
      "cell_type": "code",
      "execution_count": null,
      "metadata": {
        "execution": {
          "iopub.execute_input": "2023-10-01T16:09:10.434847Z",
          "iopub.status.busy": "2023-10-01T16:09:10.434191Z",
          "iopub.status.idle": "2023-10-01T16:09:11.129495Z",
          "shell.execute_reply": "2023-10-01T16:09:11.128474Z",
          "shell.execute_reply.started": "2023-10-01T16:09:10.434784Z"
        },
        "id": "gZ-_YemkmeGf",
        "trusted": true
      },
      "outputs": [],
      "source": [
        "sns.displot(train_df, x='Fare', col='Survived', binwidth=80, height=5)"
      ]
    },
    {
      "cell_type": "code",
      "execution_count": null,
      "metadata": {
        "execution": {
          "iopub.execute_input": "2023-10-01T16:09:11.131922Z",
          "iopub.status.busy": "2023-10-01T16:09:11.131218Z",
          "iopub.status.idle": "2023-10-01T16:09:11.147867Z",
          "shell.execute_reply": "2023-10-01T16:09:11.146564Z",
          "shell.execute_reply.started": "2023-10-01T16:09:11.131878Z"
        },
        "id": "gW4m4jIsmeGf",
        "trusted": true
      },
      "outputs": [],
      "source": [
        "train_df['Fare_Cut'] = pd.qcut(train_df['Fare'], 5)\n",
        "test_df['Fare_Cut'] = pd.qcut(test_df['Fare'], 5)"
      ]
    },
    {
      "cell_type": "code",
      "execution_count": null,
      "metadata": {
        "execution": {
          "iopub.execute_input": "2023-10-01T16:09:11.150328Z",
          "iopub.status.busy": "2023-10-01T16:09:11.149891Z",
          "iopub.status.idle": "2023-10-01T16:09:11.167491Z",
          "shell.execute_reply": "2023-10-01T16:09:11.166199Z",
          "shell.execute_reply.started": "2023-10-01T16:09:11.150288Z"
        },
        "id": "pAyQKUWvmeGf",
        "trusted": true
      },
      "outputs": [],
      "source": [
        "train_df.groupby(['Fare_Cut'], as_index=False)['Survived'].mean()"
      ]
    },
    {
      "cell_type": "code",
      "execution_count": null,
      "metadata": {
        "execution": {
          "iopub.execute_input": "2023-10-01T16:09:11.170018Z",
          "iopub.status.busy": "2023-10-01T16:09:11.169564Z",
          "iopub.status.idle": "2023-10-01T16:09:11.199095Z",
          "shell.execute_reply": "2023-10-01T16:09:11.197886Z",
          "shell.execute_reply.started": "2023-10-01T16:09:11.169977Z"
        },
        "id": "ON4aodGLmeGf",
        "trusted": true
      },
      "outputs": [],
      "source": [
        "train_df.loc[train_df['Fare'] <= 7.854, 'Fare'] = 0\n",
        "train_df.loc[(train_df['Fare'] > 7.854) & (train_df['Fare'] <= 10.5), 'Fare'] = 1\n",
        "train_df.loc[(train_df['Fare'] > 10.5) & (train_df['Fare'] <= 21.679), 'Fare'] = 2\n",
        "train_df.loc[(train_df['Fare'] > 21.679) & (train_df['Fare'] <= 39.688), 'Fare'] = 3\n",
        "train_df.loc[(train_df['Fare'] > 39.688) & (train_df['Fare'] <= 512.329), 'Fare'] = 4\n",
        "train_df.loc[train_df['Fare'] > 512.329, 'Fare']\n",
        "\n",
        "test_df.loc[test_df['Fare'] <= 7.854, 'Fare'] = 0\n",
        "test_df.loc[(test_df['Fare'] > 7.854) & (test_df['Fare'] <= 10.5), 'Fare'] = 1\n",
        "test_df.loc[(test_df['Fare'] > 10.5) & (test_df['Fare'] <= 21.679), 'Fare'] = 2\n",
        "test_df.loc[(test_df['Fare'] > 21.679) & (test_df['Fare'] <= 39.688), 'Fare'] = 3\n",
        "test_df.loc[(test_df['Fare'] > 39.688) & (test_df['Fare'] <= 512.329), 'Fare'] = 4\n",
        "test_df.loc[test_df['Fare'] > 512.329, 'Fare']"
      ]
    },
    {
      "cell_type": "code",
      "execution_count": null,
      "metadata": {
        "execution": {
          "iopub.execute_input": "2023-10-01T16:09:11.201753Z",
          "iopub.status.busy": "2023-10-01T16:09:11.200571Z",
          "iopub.status.idle": "2023-10-01T16:09:11.212831Z",
          "shell.execute_reply": "2023-10-01T16:09:11.211684Z",
          "shell.execute_reply.started": "2023-10-01T16:09:11.201711Z"
        },
        "id": "0V-Z1BmZmeGg",
        "trusted": true
      },
      "outputs": [],
      "source": [
        "train_df['Name']"
      ]
    },
    {
      "cell_type": "code",
      "execution_count": null,
      "metadata": {
        "execution": {
          "iopub.execute_input": "2023-10-01T16:09:11.214287Z",
          "iopub.status.busy": "2023-10-01T16:09:11.213982Z",
          "iopub.status.idle": "2023-10-01T16:09:11.236738Z",
          "shell.execute_reply": "2023-10-01T16:09:11.235725Z",
          "shell.execute_reply.started": "2023-10-01T16:09:11.214261Z"
        },
        "id": "xmvb9juimeGg",
        "trusted": true
      },
      "outputs": [],
      "source": [
        "train_df['Title'] = train_df['Name'].str.split(pat= \",\", expand=True)[1].str.split(pat= \".\", expand=True)[0].apply(lambda x: x.strip())\n",
        "test_df['Title'] = test_df['Name'].str.split(pat= \",\", expand=True)[1].str.split(pat= \".\", expand=True)[0].apply(lambda x: x.strip())"
      ]
    },
    {
      "cell_type": "code",
      "execution_count": null,
      "metadata": {
        "execution": {
          "iopub.execute_input": "2023-10-01T16:09:11.243897Z",
          "iopub.status.busy": "2023-10-01T16:09:11.243491Z",
          "iopub.status.idle": "2023-10-01T16:09:11.258194Z",
          "shell.execute_reply": "2023-10-01T16:09:11.257162Z",
          "shell.execute_reply.started": "2023-10-01T16:09:11.243866Z"
        },
        "id": "2OeR73FgmeGg",
        "trusted": true
      },
      "outputs": [],
      "source": [
        "train_df.groupby(['Title'], as_index=False)['Survived'].mean()"
      ]
    },
    {
      "cell_type": "code",
      "execution_count": null,
      "metadata": {
        "execution": {
          "iopub.execute_input": "2023-10-01T16:09:11.260057Z",
          "iopub.status.busy": "2023-10-01T16:09:11.259302Z",
          "iopub.status.idle": "2023-10-01T16:09:11.264023Z",
          "shell.execute_reply": "2023-10-01T16:09:11.263191Z",
          "shell.execute_reply.started": "2023-10-01T16:09:11.260017Z"
        },
        "id": "td-kibxDmeGg",
        "trusted": true
      },
      "outputs": [],
      "source": [
        "#military - Capt, Col, Major\n",
        "#noble - Jonkheer, the Countess, Don, Lady, Sir\n",
        "#unmaried Female - Mlle, Ms, Mme"
      ]
    },
    {
      "cell_type": "code",
      "execution_count": null,
      "metadata": {
        "execution": {
          "iopub.execute_input": "2023-10-01T16:09:11.266053Z",
          "iopub.status.busy": "2023-10-01T16:09:11.26508Z",
          "iopub.status.idle": "2023-10-01T16:09:11.28243Z",
          "shell.execute_reply": "2023-10-01T16:09:11.281706Z",
          "shell.execute_reply.started": "2023-10-01T16:09:11.266019Z"
        },
        "id": "AC3jiqt7meGg",
        "trusted": true
      },
      "outputs": [],
      "source": [
        "train_df['Title'] = train_df['Title'].replace({\n",
        "    'Capt': 'Military',\n",
        "    'Col': 'Military',\n",
        "    'Major': 'Military',\n",
        "    'Jonkheer': 'Noble',\n",
        "    'the Countess': 'Noble',\n",
        "    'Don': 'Noble',\n",
        "    'Lady': 'Noble',\n",
        "    'Sir': 'Noble',\n",
        "    'Mlle': 'Noble',\n",
        "    'Ms': 'Noble',\n",
        "    'Mme': 'Noble'\n",
        "})\n",
        "\n",
        "test_df['Title'] = test_df['Title'].replace({\n",
        "    'Capt': 'Military',\n",
        "    'Col': 'Military',\n",
        "    'Major': 'Military',\n",
        "    'Jonkheer': 'Noble',\n",
        "    'the Countess': 'Noble',\n",
        "    'Don': 'Noble',\n",
        "    'Lady': 'Noble',\n",
        "    'Sir': 'Noble',\n",
        "    'Mlle': 'Noble',\n",
        "    'Ms': 'Noble',\n",
        "    'Mme': 'Noble'\n",
        "})"
      ]
    },
    {
      "cell_type": "code",
      "execution_count": null,
      "metadata": {
        "execution": {
          "iopub.execute_input": "2023-10-01T16:09:11.284043Z",
          "iopub.status.busy": "2023-10-01T16:09:11.28344Z",
          "iopub.status.idle": "2023-10-01T16:09:11.305108Z",
          "shell.execute_reply": "2023-10-01T16:09:11.303973Z",
          "shell.execute_reply.started": "2023-10-01T16:09:11.284018Z"
        },
        "id": "kREyOzJImeGh",
        "trusted": true
      },
      "outputs": [],
      "source": [
        "train_df.groupby(['Title'], as_index=False)['Survived'].agg(['count', 'mean'])"
      ]
    },
    {
      "cell_type": "code",
      "execution_count": null,
      "metadata": {
        "execution": {
          "iopub.execute_input": "2023-10-01T16:09:11.307232Z",
          "iopub.status.busy": "2023-10-01T16:09:11.30631Z",
          "iopub.status.idle": "2023-10-01T16:09:11.315311Z",
          "shell.execute_reply": "2023-10-01T16:09:11.314538Z",
          "shell.execute_reply.started": "2023-10-01T16:09:11.307195Z"
        },
        "id": "LGP-B7V7meGh",
        "trusted": true
      },
      "outputs": [],
      "source": [
        "train_df['Name_Length'] = train_df['Name'].apply(lambda x: len(x))\n",
        "test_df['Name_Length'] = test_df['Name'].apply(lambda x: len(x))"
      ]
    },
    {
      "cell_type": "code",
      "execution_count": null,
      "metadata": {
        "execution": {
          "iopub.execute_input": "2023-10-01T16:09:11.317332Z",
          "iopub.status.busy": "2023-10-01T16:09:11.316692Z",
          "iopub.status.idle": "2023-10-01T16:09:11.718955Z",
          "shell.execute_reply": "2023-10-01T16:09:11.717895Z",
          "shell.execute_reply.started": "2023-10-01T16:09:11.317293Z"
        },
        "id": "Yym3EMOImeGh",
        "trusted": true
      },
      "outputs": [],
      "source": [
        "g = sns.kdeplot(train_df['Name_Length'][(train_df['Survived']==0) & (train_df['Name_Length'].notnull())], color='Red', fill=True)\n",
        "g = sns.kdeplot(train_df['Name_Length'][(train_df['Survived']==1) & (train_df['Name_Length'].notnull())], ax=g, color='Blue', fill=True)\n",
        "g.set_xlabel('Name_Length')\n",
        "g.set_ylabel('Frequency')\n",
        "g = g.legend(['Not Survived', 'Survived'])"
      ]
    },
    {
      "cell_type": "code",
      "execution_count": null,
      "metadata": {
        "execution": {
          "iopub.execute_input": "2023-10-01T16:09:11.721196Z",
          "iopub.status.busy": "2023-10-01T16:09:11.720511Z",
          "iopub.status.idle": "2023-10-01T16:09:11.732588Z",
          "shell.execute_reply": "2023-10-01T16:09:11.731356Z",
          "shell.execute_reply.started": "2023-10-01T16:09:11.721157Z"
        },
        "id": "6RahVxRsmeGh",
        "trusted": true
      },
      "outputs": [],
      "source": [
        "train_df['Name_LengthGB'] = pd.qcut(train_df['Name_Length'], 3)\n",
        "test_df['Name_LengthGB'] = pd.qcut(test_df['Name_Length'], 3)"
      ]
    },
    {
      "cell_type": "code",
      "execution_count": null,
      "metadata": {
        "execution": {
          "iopub.execute_input": "2023-10-01T16:09:11.734909Z",
          "iopub.status.busy": "2023-10-01T16:09:11.734246Z",
          "iopub.status.idle": "2023-10-01T16:09:11.750131Z",
          "shell.execute_reply": "2023-10-01T16:09:11.748966Z",
          "shell.execute_reply.started": "2023-10-01T16:09:11.734869Z"
        },
        "id": "8C4mEfNcmeGk",
        "trusted": true
      },
      "outputs": [],
      "source": [
        "train_df.groupby(['Name_LengthGB'], as_index=False)['Survived'].mean()"
      ]
    },
    {
      "cell_type": "code",
      "execution_count": null,
      "metadata": {
        "execution": {
          "iopub.execute_input": "2023-10-01T16:09:11.752165Z",
          "iopub.status.busy": "2023-10-01T16:09:11.751536Z",
          "iopub.status.idle": "2023-10-01T16:09:11.774695Z",
          "shell.execute_reply": "2023-10-01T16:09:11.77332Z",
          "shell.execute_reply.started": "2023-10-01T16:09:11.752126Z"
        },
        "id": "hqpE3_jzmeGk",
        "trusted": true
      },
      "outputs": [],
      "source": [
        "train_df.loc[train_df['Name_Length'] <= 22, 'Name_Size'] = 0\n",
        "train_df.loc[(train_df['Name_Length'] > 22) & (train_df['Name_Length'] <= 28), 'Name_Size'] = 1\n",
        "train_df.loc[(train_df['Name_Length'] > 28) & (train_df['Name_Length'] <= 82), 'Name_Size'] = 2\n",
        "train_df.loc[train_df['Name_Length'] > 82, 'Name_Size']\n",
        "\n",
        "test_df.loc[test_df['Name_Length'] <= 22, 'Name_Size'] = 0\n",
        "test_df.loc[(test_df['Name_Length'] > 22) & (test_df['Name_Length'] <= 28), 'Name_Size'] = 1\n",
        "test_df.loc[(test_df['Name_Length'] > 28) & (test_df['Name_Length'] <= 82), 'Name_Size'] = 2\n",
        "test_df.loc[test_df['Name_Length'] > 82, 'Name_Size']"
      ]
    },
    {
      "cell_type": "code",
      "execution_count": null,
      "metadata": {
        "execution": {
          "iopub.execute_input": "2023-10-01T16:09:11.777Z",
          "iopub.status.busy": "2023-10-01T16:09:11.77609Z",
          "iopub.status.idle": "2023-10-01T16:09:11.800485Z",
          "shell.execute_reply": "2023-10-01T16:09:11.799833Z",
          "shell.execute_reply.started": "2023-10-01T16:09:11.776962Z"
        },
        "id": "EgD3peBPmeGk",
        "trusted": true
      },
      "outputs": [],
      "source": [
        "train_df.head()"
      ]
    },
    {
      "cell_type": "code",
      "execution_count": null,
      "metadata": {
        "execution": {
          "iopub.execute_input": "2023-10-01T16:09:11.802522Z",
          "iopub.status.busy": "2023-10-01T16:09:11.801586Z",
          "iopub.status.idle": "2023-10-01T16:09:11.809541Z",
          "shell.execute_reply": "2023-10-01T16:09:11.808581Z",
          "shell.execute_reply.started": "2023-10-01T16:09:11.802491Z"
        },
        "id": "_G_M-n7-meGl",
        "trusted": true
      },
      "outputs": [],
      "source": [
        "train_df['Ticket']"
      ]
    },
    {
      "cell_type": "code",
      "execution_count": null,
      "metadata": {
        "execution": {
          "iopub.execute_input": "2023-10-01T16:09:11.811039Z",
          "iopub.status.busy": "2023-10-01T16:09:11.810651Z",
          "iopub.status.idle": "2023-10-01T16:09:12.203169Z",
          "shell.execute_reply": "2023-10-01T16:09:12.20209Z",
          "shell.execute_reply.started": "2023-10-01T16:09:11.811013Z"
        },
        "id": "KVXX7DRBmeGl",
        "trusted": true
      },
      "outputs": [],
      "source": [
        "train_df['TicketNumber'] = train_df['Ticket'].apply(lambda x: pd.Series({'Ticket': x.split()[-1]}))\n",
        "test_df['TicketNumber'] = test_df['Ticket'].apply(lambda x: pd.Series({'Ticket': x.split()[-1]}))"
      ]
    },
    {
      "cell_type": "code",
      "execution_count": null,
      "metadata": {
        "execution": {
          "iopub.execute_input": "2023-10-01T16:09:12.205053Z",
          "iopub.status.busy": "2023-10-01T16:09:12.20457Z",
          "iopub.status.idle": "2023-10-01T16:09:12.221683Z",
          "shell.execute_reply": "2023-10-01T16:09:12.220638Z",
          "shell.execute_reply.started": "2023-10-01T16:09:12.205016Z"
        },
        "id": "k_h3IYUvmeGl",
        "trusted": true
      },
      "outputs": [],
      "source": [
        "train_df.groupby(['TicketNumber'], as_index=False)['Survived'].agg(['count', 'mean']).sort_values('count', ascending=False)"
      ]
    },
    {
      "cell_type": "code",
      "execution_count": null,
      "metadata": {
        "execution": {
          "iopub.execute_input": "2023-10-01T16:09:12.223746Z",
          "iopub.status.busy": "2023-10-01T16:09:12.223335Z",
          "iopub.status.idle": "2023-10-01T16:09:12.233627Z",
          "shell.execute_reply": "2023-10-01T16:09:12.232984Z",
          "shell.execute_reply.started": "2023-10-01T16:09:12.223708Z"
        },
        "id": "92Tk73pomeGl",
        "trusted": true
      },
      "outputs": [],
      "source": [
        "train_df.groupby('TicketNumber')['TicketNumber'].transform('count')"
      ]
    },
    {
      "cell_type": "code",
      "execution_count": null,
      "metadata": {
        "execution": {
          "iopub.execute_input": "2023-10-01T16:09:12.23526Z",
          "iopub.status.busy": "2023-10-01T16:09:12.23478Z",
          "iopub.status.idle": "2023-10-01T16:09:12.247028Z",
          "shell.execute_reply": "2023-10-01T16:09:12.246064Z",
          "shell.execute_reply.started": "2023-10-01T16:09:12.235234Z"
        },
        "id": "AnzUC0dUmeGl",
        "trusted": true
      },
      "outputs": [],
      "source": [
        "train_df['TicketNumberCounts'] = train_df.groupby('TicketNumber')['TicketNumber'].transform('count')\n",
        "test_df['TicketNumberCounts'] = test_df.groupby('TicketNumber')['TicketNumber'].transform('count')"
      ]
    },
    {
      "cell_type": "code",
      "execution_count": null,
      "metadata": {
        "execution": {
          "iopub.execute_input": "2023-10-01T16:09:12.249051Z",
          "iopub.status.busy": "2023-10-01T16:09:12.248727Z",
          "iopub.status.idle": "2023-10-01T16:09:12.265007Z",
          "shell.execute_reply": "2023-10-01T16:09:12.264232Z",
          "shell.execute_reply.started": "2023-10-01T16:09:12.249024Z"
        },
        "id": "6STzBMSLmeGl",
        "trusted": true
      },
      "outputs": [],
      "source": [
        "train_df.groupby(['TicketNumberCounts'], as_index=False)['Survived'].agg(['count', 'mean']).sort_values('count', ascending=False)"
      ]
    },
    {
      "cell_type": "code",
      "execution_count": null,
      "metadata": {
        "execution": {
          "iopub.execute_input": "2023-10-01T16:09:12.26705Z",
          "iopub.status.busy": "2023-10-01T16:09:12.265979Z",
          "iopub.status.idle": "2023-10-01T16:09:12.284236Z",
          "shell.execute_reply": "2023-10-01T16:09:12.28319Z",
          "shell.execute_reply.started": "2023-10-01T16:09:12.267012Z"
        },
        "id": "ELHzBXL0meGl",
        "trusted": true
      },
      "outputs": [],
      "source": [
        "train_df['Ticket']"
      ]
    },
    {
      "cell_type": "code",
      "execution_count": null,
      "metadata": {
        "execution": {
          "iopub.execute_input": "2023-10-01T16:09:12.285759Z",
          "iopub.status.busy": "2023-10-01T16:09:12.285425Z",
          "iopub.status.idle": "2023-10-01T16:09:12.303882Z",
          "shell.execute_reply": "2023-10-01T16:09:12.302679Z",
          "shell.execute_reply.started": "2023-10-01T16:09:12.285731Z"
        },
        "id": "oI8g-DHRmeGl",
        "trusted": true
      },
      "outputs": [],
      "source": [
        "train_df['Ticket'].str.split(pat=\" \", expand=True)"
      ]
    },
    {
      "cell_type": "code",
      "execution_count": null,
      "metadata": {
        "execution": {
          "iopub.execute_input": "2023-10-01T16:09:12.305373Z",
          "iopub.status.busy": "2023-10-01T16:09:12.305072Z",
          "iopub.status.idle": "2023-10-01T16:09:12.319171Z",
          "shell.execute_reply": "2023-10-01T16:09:12.318402Z",
          "shell.execute_reply.started": "2023-10-01T16:09:12.305349Z"
        },
        "id": "xS8EnzFameGl",
        "trusted": true
      },
      "outputs": [],
      "source": [
        "train_df['TicketLocation'] = np.where(train_df['Ticket'].str.split(pat=\" \", expand=True)[1].notna(), train_df['Ticket'].str.split(pat=\" \", expand=True)[0].apply(lambda x: x.strip()), 'Blank')\n",
        "test_df['TicketLocation'] = np.where(test_df['Ticket'].str.split(pat=\" \", expand=True)[1].notna(), test_df['Ticket'].str.split(pat=\" \", expand=True)[0].apply(lambda x: x.strip()), 'Blank')"
      ]
    },
    {
      "cell_type": "code",
      "execution_count": null,
      "metadata": {
        "execution": {
          "iopub.execute_input": "2023-10-01T16:09:12.320898Z",
          "iopub.status.busy": "2023-10-01T16:09:12.320389Z",
          "iopub.status.idle": "2023-10-01T16:09:12.33761Z",
          "shell.execute_reply": "2023-10-01T16:09:12.336566Z",
          "shell.execute_reply.started": "2023-10-01T16:09:12.320871Z"
        },
        "id": "qc5foa3gmeGl",
        "trusted": true
      },
      "outputs": [],
      "source": [
        "train_df['TicketLocation'].value_counts()"
      ]
    },
    {
      "cell_type": "code",
      "execution_count": null,
      "metadata": {
        "execution": {
          "iopub.execute_input": "2023-10-01T16:09:12.339457Z",
          "iopub.status.busy": "2023-10-01T16:09:12.33897Z",
          "iopub.status.idle": "2023-10-01T16:09:12.353369Z",
          "shell.execute_reply": "2023-10-01T16:09:12.352304Z",
          "shell.execute_reply.started": "2023-10-01T16:09:12.33943Z"
        },
        "id": "mGGFGKZZmeGl",
        "trusted": true
      },
      "outputs": [],
      "source": [
        "train_df['TicketLocation'] = train_df['TicketLocation'].replace({\n",
        "    'SOTON/O.Q.':'SOTON/OQ',\n",
        "    'C.A.':'CA',\n",
        "    'CA.':'CA',\n",
        "    'SC/PARIS':'SC/Paris',\n",
        "    'S.C./PARIS':'SC/Paris',\n",
        "    'A/4.':'A/4',\n",
        "    'A/5.':'A/5',\n",
        "    'A.5.':'A/5',\n",
        "    'A./5.':'A/5',\n",
        "    'W./C.':'W/C',\n",
        "})\n",
        "\n",
        "test_df['TicketLocation'] = test_df['TicketLocation'].replace({\n",
        "    'SOTON/O.Q.':'SOTON/OQ',\n",
        "    'C.A.':'CA',\n",
        "    'CA.':'CA',\n",
        "    'SC/PARIS':'SC/Paris',\n",
        "    'S.C./PARIS':'SC/Paris',\n",
        "    'A/4.':'A/4',\n",
        "    'A/5.':'A/5',\n",
        "    'A.5.':'A/5',\n",
        "    'A./5.':'A/5',\n",
        "    'W./C.':'W/C',\n",
        "})"
      ]
    },
    {
      "cell_type": "code",
      "execution_count": null,
      "metadata": {
        "execution": {
          "iopub.execute_input": "2023-10-01T16:09:12.354943Z",
          "iopub.status.busy": "2023-10-01T16:09:12.3546Z",
          "iopub.status.idle": "2023-10-01T16:09:12.370633Z",
          "shell.execute_reply": "2023-10-01T16:09:12.36997Z",
          "shell.execute_reply.started": "2023-10-01T16:09:12.354917Z"
        },
        "id": "pPyMCFZ4meGl",
        "trusted": true
      },
      "outputs": [],
      "source": [
        "train_df.groupby(['TicketLocation'], as_index=False)['Survived'].agg(['count', 'mean'])"
      ]
    },
    {
      "cell_type": "code",
      "execution_count": null,
      "metadata": {
        "execution": {
          "iopub.execute_input": "2023-10-01T16:09:12.372606Z",
          "iopub.status.busy": "2023-10-01T16:09:12.372004Z",
          "iopub.status.idle": "2023-10-01T16:09:12.381507Z",
          "shell.execute_reply": "2023-10-01T16:09:12.380529Z",
          "shell.execute_reply.started": "2023-10-01T16:09:12.372578Z"
        },
        "id": "4Nc-wL-jmeGm",
        "trusted": true
      },
      "outputs": [],
      "source": [
        "train_df['Cabin'] = train_df['Cabin'].fillna('U')\n",
        "train_df['Cabin'] = pd.Series([i[0] if not pd.isnull(i) else 'x' for i in train_df['Cabin']])\n",
        "\n",
        "test_df['Cabin'] = test_df['Cabin'].fillna('U')\n",
        "test_df['Cabin'] = pd.Series([i[0] if not pd.isnull(i) else 'x' for i in test_df['Cabin']])"
      ]
    },
    {
      "cell_type": "code",
      "execution_count": null,
      "metadata": {
        "execution": {
          "iopub.execute_input": "2023-10-01T16:09:12.383644Z",
          "iopub.status.busy": "2023-10-01T16:09:12.382766Z",
          "iopub.status.idle": "2023-10-01T16:09:12.402214Z",
          "shell.execute_reply": "2023-10-01T16:09:12.401157Z",
          "shell.execute_reply.started": "2023-10-01T16:09:12.383606Z"
        },
        "id": "AXUcw7HvmeGm",
        "trusted": true
      },
      "outputs": [],
      "source": [
        "train_df.groupby(['Cabin'], as_index=False)['Survived'].agg(['count', 'mean'])"
      ]
    },
    {
      "cell_type": "code",
      "execution_count": null,
      "metadata": {
        "execution": {
          "iopub.execute_input": "2023-10-01T16:09:12.403654Z",
          "iopub.status.busy": "2023-10-01T16:09:12.403359Z",
          "iopub.status.idle": "2023-10-01T16:09:12.416348Z",
          "shell.execute_reply": "2023-10-01T16:09:12.41521Z",
          "shell.execute_reply.started": "2023-10-01T16:09:12.403628Z"
        },
        "id": "HPPFo_HdmeGm",
        "trusted": true
      },
      "outputs": [],
      "source": [
        "train_df['Cabin_Assigned'] = train_df['Cabin'].apply(lambda x: 0 if x in ['U'] else 1)\n",
        "test_df['Cabin_Assigned'] = test_df['Cabin'].apply(lambda x: 0 if x in ['U'] else 1)"
      ]
    },
    {
      "cell_type": "code",
      "execution_count": null,
      "metadata": {
        "execution": {
          "iopub.execute_input": "2023-10-01T16:09:12.418294Z",
          "iopub.status.busy": "2023-10-01T16:09:12.417369Z",
          "iopub.status.idle": "2023-10-01T16:09:12.431217Z",
          "shell.execute_reply": "2023-10-01T16:09:12.430142Z",
          "shell.execute_reply.started": "2023-10-01T16:09:12.418264Z"
        },
        "id": "-zLYUr1VmeGm",
        "trusted": true
      },
      "outputs": [],
      "source": [
        "train_df.groupby(['Cabin_Assigned'], as_index=False)['Survived'].agg(['count', 'mean'])"
      ]
    },
    {
      "cell_type": "code",
      "execution_count": null,
      "metadata": {
        "execution": {
          "iopub.execute_input": "2023-10-01T16:09:12.43376Z",
          "iopub.status.busy": "2023-10-01T16:09:12.432654Z",
          "iopub.status.idle": "2023-10-01T16:09:12.458348Z",
          "shell.execute_reply": "2023-10-01T16:09:12.457626Z",
          "shell.execute_reply.started": "2023-10-01T16:09:12.433721Z"
        },
        "id": "zXt3NdgXmeGm",
        "trusted": true
      },
      "outputs": [],
      "source": [
        "train_df.head()"
      ]
    },
    {
      "cell_type": "code",
      "execution_count": null,
      "metadata": {
        "execution": {
          "iopub.execute_input": "2023-10-01T16:09:12.459916Z",
          "iopub.status.busy": "2023-10-01T16:09:12.459351Z",
          "iopub.status.idle": "2023-10-01T16:09:12.468935Z",
          "shell.execute_reply": "2023-10-01T16:09:12.467824Z",
          "shell.execute_reply.started": "2023-10-01T16:09:12.459878Z"
        },
        "id": "Vlw-U-o0meGm",
        "trusted": true
      },
      "outputs": [],
      "source": [
        "train_df.shape"
      ]
    },
    {
      "cell_type": "code",
      "execution_count": null,
      "metadata": {
        "execution": {
          "iopub.execute_input": "2023-10-01T16:09:12.470867Z",
          "iopub.status.busy": "2023-10-01T16:09:12.470523Z",
          "iopub.status.idle": "2023-10-01T16:09:12.481812Z",
          "shell.execute_reply": "2023-10-01T16:09:12.480887Z",
          "shell.execute_reply.started": "2023-10-01T16:09:12.470841Z"
        },
        "id": "Si85K8kBmeGm",
        "trusted": true
      },
      "outputs": [],
      "source": [
        "test_df.shape"
      ]
    },
    {
      "cell_type": "code",
      "execution_count": null,
      "metadata": {
        "execution": {
          "iopub.execute_input": "2023-10-01T16:09:12.483727Z",
          "iopub.status.busy": "2023-10-01T16:09:12.483413Z",
          "iopub.status.idle": "2023-10-01T16:09:12.504506Z",
          "shell.execute_reply": "2023-10-01T16:09:12.50381Z",
          "shell.execute_reply.started": "2023-10-01T16:09:12.4837Z"
        },
        "id": "zxkc2zzJmeGm",
        "trusted": true
      },
      "outputs": [],
      "source": [
        "train_df.info()"
      ]
    },
    {
      "cell_type": "code",
      "execution_count": null,
      "metadata": {
        "execution": {
          "iopub.execute_input": "2023-10-01T16:09:12.506486Z",
          "iopub.status.busy": "2023-10-01T16:09:12.506105Z",
          "iopub.status.idle": "2023-10-01T16:09:12.513927Z",
          "shell.execute_reply": "2023-10-01T16:09:12.512842Z",
          "shell.execute_reply.started": "2023-10-01T16:09:12.506448Z"
        },
        "id": "ChJ5tUQDmeGm",
        "trusted": true
      },
      "outputs": [],
      "source": [
        "train_df.columns"
      ]
    },
    {
      "cell_type": "code",
      "execution_count": null,
      "metadata": {
        "execution": {
          "iopub.execute_input": "2023-10-01T16:09:12.51547Z",
          "iopub.status.busy": "2023-10-01T16:09:12.515218Z",
          "iopub.status.idle": "2023-10-01T16:09:12.539267Z",
          "shell.execute_reply": "2023-10-01T16:09:12.538573Z",
          "shell.execute_reply.started": "2023-10-01T16:09:12.515448Z"
        },
        "id": "E-uwL5GjmeGm",
        "trusted": true
      },
      "outputs": [],
      "source": [
        "test_df.info()"
      ]
    },
    {
      "cell_type": "code",
      "execution_count": null,
      "metadata": {
        "execution": {
          "iopub.execute_input": "2023-10-01T16:09:12.540821Z",
          "iopub.status.busy": "2023-10-01T16:09:12.540536Z",
          "iopub.status.idle": "2023-10-01T16:09:12.555576Z",
          "shell.execute_reply": "2023-10-01T16:09:12.554779Z",
          "shell.execute_reply.started": "2023-10-01T16:09:12.540783Z"
        },
        "id": "YNZvDzOJmeGm",
        "trusted": true
      },
      "outputs": [],
      "source": [
        "train_df['Age'].fillna(train_df['Age'].mean(), inplace=True)\n",
        "test_df['Age'].fillna(test_df['Age'].mean(), inplace=True)\n",
        "test_df['Fare'].fillna(test_df['Fare'].mean(), inplace=True)"
      ]
    },
    {
      "cell_type": "code",
      "execution_count": null,
      "metadata": {
        "id": "zdO1yoslmeGn"
      },
      "outputs": [],
      "source": []
    },
    {
      "cell_type": "code",
      "execution_count": null,
      "metadata": {
        "execution": {
          "iopub.execute_input": "2023-10-01T16:09:12.55668Z",
          "iopub.status.busy": "2023-10-01T16:09:12.556386Z",
          "iopub.status.idle": "2023-10-01T16:09:12.569071Z",
          "shell.execute_reply": "2023-10-01T16:09:12.568323Z",
          "shell.execute_reply.started": "2023-10-01T16:09:12.556655Z"
        },
        "id": "lGoBCZGVmeGn",
        "trusted": true
      },
      "outputs": [],
      "source": [
        "ohe = OneHotEncoder(sparse_output=False)\n",
        "ode = OrdinalEncoder\n",
        "SI = SimpleImputer(strategy='most_frequent')"
      ]
    },
    {
      "cell_type": "code",
      "execution_count": null,
      "metadata": {
        "execution": {
          "iopub.execute_input": "2023-10-01T16:09:12.570954Z",
          "iopub.status.busy": "2023-10-01T16:09:12.570048Z",
          "iopub.status.idle": "2023-10-01T16:09:12.583466Z",
          "shell.execute_reply": "2023-10-01T16:09:12.582689Z",
          "shell.execute_reply.started": "2023-10-01T16:09:12.570925Z"
        },
        "id": "FjXEKktPmeGn",
        "trusted": true
      },
      "outputs": [],
      "source": [
        "ode_cols = ['Family_Size_Grouped']\n",
        "ohe_cols = ['Sex', 'Embarked']"
      ]
    },
    {
      "cell_type": "code",
      "execution_count": null,
      "metadata": {
        "execution": {
          "iopub.execute_input": "2023-10-01T16:09:12.585113Z",
          "iopub.status.busy": "2023-10-01T16:09:12.58471Z",
          "iopub.status.idle": "2023-10-01T16:09:13.342422Z",
          "shell.execute_reply": "2023-10-01T16:09:13.341356Z",
          "shell.execute_reply.started": "2023-10-01T16:09:12.585079Z"
        },
        "id": "bQ1Ux0McmeGn",
        "trusted": true
      },
      "outputs": [],
      "source": [
        "correlation_matrix = train_df.corr(numeric_only=True)\n",
        "\n",
        "# Create a heatmap using Seaborn\n",
        "plt.figure(figsize=(8, 6))  # Adjust the figure size as needed\n",
        "sns.heatmap(correlation_matrix, annot=True, cmap='coolwarm', fmt=\".2f\")"
      ]
    },
    {
      "cell_type": "code",
      "execution_count": null,
      "metadata": {
        "execution": {
          "iopub.execute_input": "2023-10-01T16:09:13.344668Z",
          "iopub.status.busy": "2023-10-01T16:09:13.343767Z",
          "iopub.status.idle": "2023-10-01T16:09:13.349204Z",
          "shell.execute_reply": "2023-10-01T16:09:13.348194Z",
          "shell.execute_reply.started": "2023-10-01T16:09:13.344628Z"
        },
        "id": "In99Nrx0meGn",
        "trusted": true
      },
      "outputs": [],
      "source": [
        "#NEW Drop Sibsp, Parch, TicketNumberCounts"
      ]
    },
    {
      "cell_type": "code",
      "execution_count": null,
      "metadata": {
        "execution": {
          "iopub.execute_input": "2023-10-01T16:09:13.351263Z",
          "iopub.status.busy": "2023-10-01T16:09:13.350445Z",
          "iopub.status.idle": "2023-10-01T16:09:13.36822Z",
          "shell.execute_reply": "2023-10-01T16:09:13.367224Z",
          "shell.execute_reply.started": "2023-10-01T16:09:13.351225Z"
        },
        "id": "__mHq4zGmeGr",
        "trusted": true
      },
      "outputs": [],
      "source": [
        "#new\n",
        "X = train_df.drop(['Survived', 'SibSp', 'Parch'], axis=1)\n",
        "y = train_df['Survived']\n",
        "X_test = test_df.drop(['Age_Cut', 'Fare_Cut', 'SibSp', 'Parch'], axis=1)"
      ]
    },
    {
      "cell_type": "code",
      "execution_count": null,
      "metadata": {
        "execution": {
          "iopub.execute_input": "2023-10-01T16:09:13.37Z",
          "iopub.status.busy": "2023-10-01T16:09:13.369577Z",
          "iopub.status.idle": "2023-10-01T16:09:13.382566Z",
          "shell.execute_reply": "2023-10-01T16:09:13.38142Z",
          "shell.execute_reply.started": "2023-10-01T16:09:13.369969Z"
        },
        "id": "Z7ZNEKcameGr",
        "trusted": true
      },
      "outputs": [],
      "source": [
        "#OLD\n",
        "#X = train_df.drop(['Survived'], axis=1)\n",
        "#y = train_df['Survived']\n",
        "#X_test = test_df.drop(['Age_Cut', 'Fare_Cut'], axis=1)"
      ]
    },
    {
      "cell_type": "code",
      "execution_count": null,
      "metadata": {
        "execution": {
          "iopub.execute_input": "2023-10-01T16:09:13.384259Z",
          "iopub.status.busy": "2023-10-01T16:09:13.383947Z",
          "iopub.status.idle": "2023-10-01T16:09:13.401775Z",
          "shell.execute_reply": "2023-10-01T16:09:13.40094Z",
          "shell.execute_reply.started": "2023-10-01T16:09:13.384233Z"
        },
        "id": "RF-A1AHWmeGr",
        "trusted": true
      },
      "outputs": [],
      "source": [
        "X_train, X_valid, y_train, y_valid = train_test_split(X, y, test_size=0.2, stratify = y, random_state=21)"
      ]
    },
    {
      "cell_type": "code",
      "execution_count": null,
      "metadata": {
        "execution": {
          "iopub.execute_input": "2023-10-01T16:09:13.404364Z",
          "iopub.status.busy": "2023-10-01T16:09:13.403639Z",
          "iopub.status.idle": "2023-10-01T16:09:13.412733Z",
          "shell.execute_reply": "2023-10-01T16:09:13.411817Z",
          "shell.execute_reply.started": "2023-10-01T16:09:13.404325Z"
        },
        "id": "muLBb33qmeGs",
        "trusted": true
      },
      "outputs": [],
      "source": [
        "ordinal_pipeline = Pipeline(steps=[\n",
        "    ('impute', SimpleImputer(strategy='most_frequent')),\n",
        "    ('ord', OrdinalEncoder(handle_unknown='use_encoded_value', unknown_value=-1))\n",
        "])"
      ]
    },
    {
      "cell_type": "code",
      "execution_count": null,
      "metadata": {
        "execution": {
          "iopub.execute_input": "2023-10-01T16:09:13.415007Z",
          "iopub.status.busy": "2023-10-01T16:09:13.414391Z",
          "iopub.status.idle": "2023-10-01T16:09:13.426617Z",
          "shell.execute_reply": "2023-10-01T16:09:13.425761Z",
          "shell.execute_reply.started": "2023-10-01T16:09:13.414971Z"
        },
        "id": "c8PBqfzBmeGs",
        "trusted": true
      },
      "outputs": [],
      "source": [
        "ohe_pipeline = Pipeline(steps=[\n",
        "    ('impute', SimpleImputer(strategy='most_frequent')),\n",
        "    ('one-hot', OneHotEncoder(handle_unknown = 'ignore', sparse_output=False))\n",
        "])"
      ]
    },
    {
      "cell_type": "code",
      "execution_count": null,
      "metadata": {
        "execution": {
          "iopub.execute_input": "2023-10-01T16:09:13.429518Z",
          "iopub.status.busy": "2023-10-01T16:09:13.428878Z",
          "iopub.status.idle": "2023-10-01T16:09:13.44105Z",
          "shell.execute_reply": "2023-10-01T16:09:13.44008Z",
          "shell.execute_reply.started": "2023-10-01T16:09:13.429479Z"
        },
        "id": "BckBfBq0meGs",
        "trusted": true
      },
      "outputs": [],
      "source": [
        "col_trans = ColumnTransformer(transformers=[\n",
        "    ('impute', SI, ['Age']),\n",
        "    ('ord_pipeline', ordinal_pipeline, ode_cols),\n",
        "    ('ohe_pipeline', ohe_pipeline, ohe_cols),\n",
        "   # ('passthrough', 'passthrough', ['Pclass', 'TicketNumberCounts', 'Cabin_Assigned', 'Name_Size', 'Age', 'Fare'])\n",
        "     ('passthrough', 'passthrough', ['Pclass', 'Cabin_Assigned', 'Name_Size', 'Age', 'Fare', 'TicketNumberCounts'])\n",
        "    ],\n",
        "    remainder='drop',\n",
        "    n_jobs=-1)"
      ]
    },
    {
      "cell_type": "code",
      "execution_count": null,
      "metadata": {
        "execution": {
          "iopub.execute_input": "2023-10-01T16:09:13.44343Z",
          "iopub.status.busy": "2023-10-01T16:09:13.442757Z",
          "iopub.status.idle": "2023-10-01T16:09:13.45572Z",
          "shell.execute_reply": "2023-10-01T16:09:13.454629Z",
          "shell.execute_reply.started": "2023-10-01T16:09:13.443392Z"
        },
        "id": "y-L5uo2ymeGs",
        "trusted": true
      },
      "outputs": [],
      "source": [
        "rfc = RandomForestClassifier()"
      ]
    },
    {
      "cell_type": "code",
      "execution_count": null,
      "metadata": {
        "execution": {
          "iopub.execute_input": "2023-10-01T16:09:13.458189Z",
          "iopub.status.busy": "2023-10-01T16:09:13.457533Z",
          "iopub.status.idle": "2023-10-01T16:09:13.469341Z",
          "shell.execute_reply": "2023-10-01T16:09:13.468234Z",
          "shell.execute_reply.started": "2023-10-01T16:09:13.458148Z"
        },
        "id": "bo763qlfmeGs",
        "trusted": true
      },
      "outputs": [],
      "source": [
        "param_grid = {\n",
        "    'n_estimators': [150, 200, 300, 500],\n",
        "    'min_samples_split': [5, 10, 15],\n",
        "    'max_depth': [10, 13, 15, 17, 20],\n",
        "    'min_samples_leaf': [2, 4, 5, 6],\n",
        "    'criterion': ['gini', 'entropy'],\n",
        "}"
      ]
    },
    {
      "cell_type": "code",
      "execution_count": null,
      "metadata": {
        "execution": {
          "iopub.execute_input": "2023-10-01T16:09:13.471186Z",
          "iopub.status.busy": "2023-10-01T16:09:13.470859Z",
          "iopub.status.idle": "2023-10-01T16:09:13.487666Z",
          "shell.execute_reply": "2023-10-01T16:09:13.486562Z",
          "shell.execute_reply.started": "2023-10-01T16:09:13.471157Z"
        },
        "id": "B77cqNokmeGs",
        "trusted": true
      },
      "outputs": [],
      "source": [
        "CV_rfc = GridSearchCV(estimator=rfc, param_grid=param_grid, cv=StratifiedKFold(n_splits=5))"
      ]
    },
    {
      "cell_type": "code",
      "execution_count": null,
      "metadata": {
        "execution": {
          "iopub.execute_input": "2023-10-01T16:09:13.489491Z",
          "iopub.status.busy": "2023-10-01T16:09:13.489023Z",
          "iopub.status.idle": "2023-10-01T16:09:13.502575Z",
          "shell.execute_reply": "2023-10-01T16:09:13.5014Z",
          "shell.execute_reply.started": "2023-10-01T16:09:13.489464Z"
        },
        "id": "Ve1Q07fOmeGs",
        "trusted": true
      },
      "outputs": [],
      "source": [
        "pipefinalrfc = make_pipeline(col_trans, CV_rfc)\n",
        "pipefinalrfc.fit(X_train, y_train)"
      ]
    },
    {
      "cell_type": "code",
      "execution_count": null,
      "metadata": {
        "execution": {
          "iopub.execute_input": "2023-10-01T16:09:13.504402Z",
          "iopub.status.busy": "2023-10-01T16:09:13.503652Z",
          "iopub.status.idle": "2023-10-01T16:09:13.515291Z",
          "shell.execute_reply": "2023-10-01T16:09:13.51419Z",
          "shell.execute_reply.started": "2023-10-01T16:09:13.50437Z"
        },
        "id": "eI3JrkkameGs",
        "trusted": true
      },
      "outputs": [],
      "source": [
        "print(CV_rfc.best_params_)\n",
        "print(CV_rfc.best_score_)"
      ]
    },
    {
      "cell_type": "code",
      "execution_count": null,
      "metadata": {
        "execution": {
          "iopub.execute_input": "2023-10-01T16:09:13.517319Z",
          "iopub.status.busy": "2023-10-01T16:09:13.516373Z",
          "iopub.status.idle": "2023-10-01T16:09:13.52857Z",
          "shell.execute_reply": "2023-10-01T16:09:13.527425Z",
          "shell.execute_reply.started": "2023-10-01T16:09:13.517279Z"
        },
        "id": "VoS-2DoEmeGs",
        "trusted": true
      },
      "outputs": [],
      "source": [
        "dtc = DecisionTreeClassifier()"
      ]
    },
    {
      "cell_type": "code",
      "execution_count": null,
      "metadata": {
        "execution": {
          "iopub.execute_input": "2023-10-01T16:09:13.530403Z",
          "iopub.status.busy": "2023-10-01T16:09:13.530062Z",
          "iopub.status.idle": "2023-10-01T16:09:13.542564Z",
          "shell.execute_reply": "2023-10-01T16:09:13.54129Z",
          "shell.execute_reply.started": "2023-10-01T16:09:13.530372Z"
        },
        "id": "lPq2ghfEmeGs",
        "trusted": true
      },
      "outputs": [],
      "source": [
        "param_grid = {\n",
        "    'min_samples_split': [5, 10, 15],\n",
        "    'max_depth': [10, 20, 30],\n",
        "    'min_samples_leaf': [1, 2, 4],\n",
        "    'criterion': ['gini', 'entropy'],\n",
        "}"
      ]
    },
    {
      "cell_type": "code",
      "execution_count": null,
      "metadata": {
        "execution": {
          "iopub.execute_input": "2023-10-01T16:09:13.544484Z",
          "iopub.status.busy": "2023-10-01T16:09:13.543952Z",
          "iopub.status.idle": "2023-10-01T16:09:13.556463Z",
          "shell.execute_reply": "2023-10-01T16:09:13.555214Z",
          "shell.execute_reply.started": "2023-10-01T16:09:13.544444Z"
        },
        "id": "EcSuX-GVmeGs",
        "trusted": true
      },
      "outputs": [],
      "source": [
        "CV_dtc = GridSearchCV(estimator=dtc, param_grid=param_grid, cv=StratifiedKFold(n_splits=5))"
      ]
    },
    {
      "cell_type": "code",
      "execution_count": null,
      "metadata": {
        "execution": {
          "iopub.execute_input": "2023-10-01T16:09:13.558167Z",
          "iopub.status.busy": "2023-10-01T16:09:13.557826Z",
          "iopub.status.idle": "2023-10-01T16:09:13.569826Z",
          "shell.execute_reply": "2023-10-01T16:09:13.569087Z",
          "shell.execute_reply.started": "2023-10-01T16:09:13.558126Z"
        },
        "id": "rN7GOF0ZmeGt",
        "trusted": true
      },
      "outputs": [],
      "source": [
        "pipefinaldtc = make_pipeline(col_trans, CV_dtc)\n",
        "pipefinaldtc.fit(X_train, y_train)"
      ]
    },
    {
      "cell_type": "code",
      "execution_count": null,
      "metadata": {
        "execution": {
          "iopub.execute_input": "2023-10-01T16:09:13.571496Z",
          "iopub.status.busy": "2023-10-01T16:09:13.571147Z",
          "iopub.status.idle": "2023-10-01T16:09:13.583897Z",
          "shell.execute_reply": "2023-10-01T16:09:13.58292Z",
          "shell.execute_reply.started": "2023-10-01T16:09:13.57146Z"
        },
        "id": "q4YwXEPtmeGt",
        "trusted": true
      },
      "outputs": [],
      "source": [
        "print(CV_dtc.best_params_)\n",
        "print(CV_dtc.best_score_)"
      ]
    },
    {
      "cell_type": "code",
      "execution_count": null,
      "metadata": {
        "execution": {
          "iopub.execute_input": "2023-10-01T16:09:13.58567Z",
          "iopub.status.busy": "2023-10-01T16:09:13.585344Z",
          "iopub.status.idle": "2023-10-01T16:09:13.597752Z",
          "shell.execute_reply": "2023-10-01T16:09:13.597026Z",
          "shell.execute_reply.started": "2023-10-01T16:09:13.585642Z"
        },
        "id": "W4H4s3DnmeGt",
        "trusted": true
      },
      "outputs": [],
      "source": [
        "knn = KNeighborsClassifier()"
      ]
    },
    {
      "cell_type": "code",
      "execution_count": null,
      "metadata": {
        "execution": {
          "iopub.execute_input": "2023-10-01T16:09:13.608579Z",
          "iopub.status.busy": "2023-10-01T16:09:13.608087Z",
          "iopub.status.idle": "2023-10-01T16:09:13.612693Z",
          "shell.execute_reply": "2023-10-01T16:09:13.611677Z",
          "shell.execute_reply.started": "2023-10-01T16:09:13.608551Z"
        },
        "id": "cEa6TKhYmeGt",
        "trusted": true
      },
      "outputs": [],
      "source": [
        "param_grid = {\n",
        "    'n_neighbors': [3, 5, 7, 9, 11],\n",
        "    'weights': ['uniform', 'distance'],\n",
        "    'algorithm': ['auto', 'ball_tree', 'kd_tree', 'brute'],\n",
        "    'p': [1,2],\n",
        "}"
      ]
    },
    {
      "cell_type": "code",
      "execution_count": null,
      "metadata": {
        "execution": {
          "iopub.execute_input": "2023-10-01T16:09:13.615187Z",
          "iopub.status.busy": "2023-10-01T16:09:13.614276Z",
          "iopub.status.idle": "2023-10-01T16:09:13.625205Z",
          "shell.execute_reply": "2023-10-01T16:09:13.624333Z",
          "shell.execute_reply.started": "2023-10-01T16:09:13.615149Z"
        },
        "id": "ACxpnkjKmeGt",
        "trusted": true
      },
      "outputs": [],
      "source": [
        "CV_knn = GridSearchCV(estimator=knn, param_grid=param_grid, cv=StratifiedKFold(n_splits=5))"
      ]
    },
    {
      "cell_type": "code",
      "execution_count": null,
      "metadata": {
        "execution": {
          "iopub.execute_input": "2023-10-01T16:09:13.627123Z",
          "iopub.status.busy": "2023-10-01T16:09:13.626508Z",
          "iopub.status.idle": "2023-10-01T16:09:13.638225Z",
          "shell.execute_reply": "2023-10-01T16:09:13.637116Z",
          "shell.execute_reply.started": "2023-10-01T16:09:13.627077Z"
        },
        "id": "Khh4e8zOmeGt",
        "trusted": true
      },
      "outputs": [],
      "source": [
        "pipefinalknn = make_pipeline(col_trans, CV_knn)\n",
        "pipefinalknn.fit(X_train, y_train)"
      ]
    },
    {
      "cell_type": "code",
      "execution_count": null,
      "metadata": {
        "execution": {
          "iopub.execute_input": "2023-10-01T16:09:13.640276Z",
          "iopub.status.busy": "2023-10-01T16:09:13.639377Z",
          "iopub.status.idle": "2023-10-01T16:09:13.650173Z",
          "shell.execute_reply": "2023-10-01T16:09:13.649254Z",
          "shell.execute_reply.started": "2023-10-01T16:09:13.640239Z"
        },
        "id": "mgpmxTJAmeGt",
        "trusted": true
      },
      "outputs": [],
      "source": [
        "print(CV_knn.best_params_)\n",
        "print(CV_knn.best_score_)"
      ]
    },
    {
      "cell_type": "code",
      "execution_count": null,
      "metadata": {
        "execution": {
          "iopub.execute_input": "2023-10-01T16:09:13.65225Z",
          "iopub.status.busy": "2023-10-01T16:09:13.651399Z",
          "iopub.status.idle": "2023-10-01T16:09:13.662687Z",
          "shell.execute_reply": "2023-10-01T16:09:13.661918Z",
          "shell.execute_reply.started": "2023-10-01T16:09:13.65222Z"
        },
        "id": "GdG7_9XlmeGt",
        "trusted": true
      },
      "outputs": [],
      "source": [
        "svc = SVC(probability=True)"
      ]
    },
    {
      "cell_type": "code",
      "execution_count": null,
      "metadata": {
        "execution": {
          "iopub.execute_input": "2023-10-01T16:09:13.664784Z",
          "iopub.status.busy": "2023-10-01T16:09:13.664378Z",
          "iopub.status.idle": "2023-10-01T16:09:13.676312Z",
          "shell.execute_reply": "2023-10-01T16:09:13.675268Z",
          "shell.execute_reply.started": "2023-10-01T16:09:13.664745Z"
        },
        "id": "ro7NJsmgmeGt",
        "trusted": true
      },
      "outputs": [],
      "source": [
        "param_grid = {\n",
        "    'C': [100,10, 1.0, 0.1, 0.001, 0.001],\n",
        "    'kernel':['linear', 'poly', 'rbf', 'sigmoid'],\n",
        "}"
      ]
    },
    {
      "cell_type": "code",
      "execution_count": null,
      "metadata": {
        "execution": {
          "iopub.execute_input": "2023-10-01T16:09:13.677894Z",
          "iopub.status.busy": "2023-10-01T16:09:13.677573Z",
          "iopub.status.idle": "2023-10-01T16:09:13.69057Z",
          "shell.execute_reply": "2023-10-01T16:09:13.689821Z",
          "shell.execute_reply.started": "2023-10-01T16:09:13.677865Z"
        },
        "id": "-w0Mtv5ymeGt",
        "trusted": true
      },
      "outputs": [],
      "source": [
        "CV_svc = GridSearchCV(estimator=svc, param_grid=param_grid, cv=StratifiedKFold(n_splits=5))"
      ]
    },
    {
      "cell_type": "code",
      "execution_count": null,
      "metadata": {
        "execution": {
          "iopub.execute_input": "2023-10-01T16:09:13.692728Z",
          "iopub.status.busy": "2023-10-01T16:09:13.692441Z",
          "iopub.status.idle": "2023-10-01T16:09:13.705252Z",
          "shell.execute_reply": "2023-10-01T16:09:13.704452Z",
          "shell.execute_reply.started": "2023-10-01T16:09:13.692702Z"
        },
        "id": "li4a89tGmeGt",
        "trusted": true
      },
      "outputs": [],
      "source": [
        "pipefinalsvc = make_pipeline(col_trans, CV_svc)\n",
        "pipefinalsvc.fit(X_train, y_train)"
      ]
    },
    {
      "cell_type": "code",
      "execution_count": null,
      "metadata": {
        "execution": {
          "iopub.execute_input": "2023-10-01T16:09:13.707112Z",
          "iopub.status.busy": "2023-10-01T16:09:13.70658Z",
          "iopub.status.idle": "2023-10-01T16:09:13.719093Z",
          "shell.execute_reply": "2023-10-01T16:09:13.718279Z",
          "shell.execute_reply.started": "2023-10-01T16:09:13.707082Z"
        },
        "id": "z2SwHm_NmeGt",
        "trusted": true
      },
      "outputs": [],
      "source": [
        "print(CV_svc.best_params_)\n",
        "print(CV_svc.best_score_)"
      ]
    },
    {
      "cell_type": "code",
      "execution_count": null,
      "metadata": {
        "execution": {
          "iopub.execute_input": "2023-10-01T16:09:13.720511Z",
          "iopub.status.busy": "2023-10-01T16:09:13.720223Z",
          "iopub.status.idle": "2023-10-01T16:09:13.73414Z",
          "shell.execute_reply": "2023-10-01T16:09:13.733025Z",
          "shell.execute_reply.started": "2023-10-01T16:09:13.720486Z"
        },
        "id": "1SDrIlkMmeGu",
        "trusted": true
      },
      "outputs": [],
      "source": [
        "lr = LogisticRegression()"
      ]
    },
    {
      "cell_type": "code",
      "execution_count": null,
      "metadata": {
        "execution": {
          "iopub.execute_input": "2023-10-01T16:09:13.736104Z",
          "iopub.status.busy": "2023-10-01T16:09:13.735374Z",
          "iopub.status.idle": "2023-10-01T16:09:13.747103Z",
          "shell.execute_reply": "2023-10-01T16:09:13.746265Z",
          "shell.execute_reply.started": "2023-10-01T16:09:13.736052Z"
        },
        "id": "dxJUTCuqmeGu",
        "trusted": true
      },
      "outputs": [],
      "source": [
        "param_grid = {\n",
        "    'C': [100,10, 1.0, 0.1, 0.001, 0.001],\n",
        "}"
      ]
    },
    {
      "cell_type": "code",
      "execution_count": null,
      "metadata": {
        "execution": {
          "iopub.execute_input": "2023-10-01T16:09:13.748846Z",
          "iopub.status.busy": "2023-10-01T16:09:13.748042Z",
          "iopub.status.idle": "2023-10-01T16:09:13.76313Z",
          "shell.execute_reply": "2023-10-01T16:09:13.761979Z",
          "shell.execute_reply.started": "2023-10-01T16:09:13.748818Z"
        },
        "id": "u-4T4_lCmeGu",
        "trusted": true
      },
      "outputs": [],
      "source": [
        "CV_lr = GridSearchCV(estimator=lr, param_grid=param_grid, cv=StratifiedKFold(n_splits=5))"
      ]
    },
    {
      "cell_type": "code",
      "execution_count": null,
      "metadata": {
        "execution": {
          "iopub.execute_input": "2023-10-01T16:09:13.765222Z",
          "iopub.status.busy": "2023-10-01T16:09:13.764278Z",
          "iopub.status.idle": "2023-10-01T16:09:13.776553Z",
          "shell.execute_reply": "2023-10-01T16:09:13.775652Z",
          "shell.execute_reply.started": "2023-10-01T16:09:13.76519Z"
        },
        "id": "-P5VlJUfmeGu",
        "trusted": true
      },
      "outputs": [],
      "source": [
        "pipefinallr= make_pipeline(col_trans, CV_lr)\n",
        "pipefinallr.fit(X_train, y_train)"
      ]
    },
    {
      "cell_type": "code",
      "execution_count": null,
      "metadata": {
        "execution": {
          "iopub.execute_input": "2023-10-01T16:09:13.778544Z",
          "iopub.status.busy": "2023-10-01T16:09:13.77762Z",
          "iopub.status.idle": "2023-10-01T16:09:13.792536Z",
          "shell.execute_reply": "2023-10-01T16:09:13.791612Z",
          "shell.execute_reply.started": "2023-10-01T16:09:13.778514Z"
        },
        "id": "QdszChTjmeGu",
        "trusted": true
      },
      "outputs": [],
      "source": [
        "print(CV_lr.best_params_)\n",
        "print(CV_lr.best_score_)"
      ]
    },
    {
      "cell_type": "code",
      "execution_count": null,
      "metadata": {
        "execution": {
          "iopub.execute_input": "2023-10-01T16:09:13.794568Z",
          "iopub.status.busy": "2023-10-01T16:09:13.793621Z",
          "iopub.status.idle": "2023-10-01T16:09:13.804883Z",
          "shell.execute_reply": "2023-10-01T16:09:13.804075Z",
          "shell.execute_reply.started": "2023-10-01T16:09:13.794525Z"
        },
        "id": "keuiopGKmeGu",
        "trusted": true
      },
      "outputs": [],
      "source": [
        "gnb = GaussianNB()"
      ]
    },
    {
      "cell_type": "code",
      "execution_count": null,
      "metadata": {
        "execution": {
          "iopub.execute_input": "2023-10-01T16:09:13.806864Z",
          "iopub.status.busy": "2023-10-01T16:09:13.806236Z",
          "iopub.status.idle": "2023-10-01T16:09:13.818342Z",
          "shell.execute_reply": "2023-10-01T16:09:13.817436Z",
          "shell.execute_reply.started": "2023-10-01T16:09:13.806827Z"
        },
        "id": "qg2E2JTemeGu",
        "trusted": true
      },
      "outputs": [],
      "source": [
        "param_grid = {\n",
        "    'var_smoothing': [0.00000001, 0.000000001, 0.00000001],\n",
        "}"
      ]
    },
    {
      "cell_type": "code",
      "execution_count": null,
      "metadata": {
        "execution": {
          "iopub.execute_input": "2023-10-01T16:09:13.820219Z",
          "iopub.status.busy": "2023-10-01T16:09:13.81948Z",
          "iopub.status.idle": "2023-10-01T16:09:13.83272Z",
          "shell.execute_reply": "2023-10-01T16:09:13.831903Z",
          "shell.execute_reply.started": "2023-10-01T16:09:13.820191Z"
        },
        "id": "1gNNmP4gmeGu",
        "trusted": true
      },
      "outputs": [],
      "source": [
        "CV_gnb = GridSearchCV(estimator=gnb, param_grid=param_grid, cv=StratifiedKFold(n_splits=5))"
      ]
    },
    {
      "cell_type": "code",
      "execution_count": null,
      "metadata": {
        "execution": {
          "iopub.execute_input": "2023-10-01T16:09:13.834467Z",
          "iopub.status.busy": "2023-10-01T16:09:13.834168Z",
          "iopub.status.idle": "2023-10-01T16:09:16.252725Z",
          "shell.execute_reply": "2023-10-01T16:09:16.251891Z",
          "shell.execute_reply.started": "2023-10-01T16:09:13.834434Z"
        },
        "id": "ksxop1igmeGu",
        "trusted": true
      },
      "outputs": [],
      "source": [
        "pipefinalgnb= make_pipeline(col_trans, CV_gnb)\n",
        "pipefinalgnb.fit(X_train, y_train)"
      ]
    },
    {
      "cell_type": "code",
      "execution_count": null,
      "metadata": {
        "execution": {
          "iopub.execute_input": "2023-10-01T16:09:16.254512Z",
          "iopub.status.busy": "2023-10-01T16:09:16.254062Z",
          "iopub.status.idle": "2023-10-01T16:09:16.258946Z",
          "shell.execute_reply": "2023-10-01T16:09:16.25819Z",
          "shell.execute_reply.started": "2023-10-01T16:09:16.254483Z"
        },
        "id": "BmoqXLDEmeGu",
        "trusted": true
      },
      "outputs": [],
      "source": [
        "print(CV_gnb.best_params_)\n",
        "print(CV_gnb.best_score_)"
      ]
    },
    {
      "cell_type": "code",
      "execution_count": null,
      "metadata": {
        "execution": {
          "iopub.execute_input": "2023-10-01T16:09:16.260668Z",
          "iopub.status.busy": "2023-10-01T16:09:16.26035Z",
          "iopub.status.idle": "2023-10-01T16:09:16.273857Z",
          "shell.execute_reply": "2023-10-01T16:09:16.273046Z",
          "shell.execute_reply.started": "2023-10-01T16:09:16.260633Z"
        },
        "id": "CS22RoXNmeGu",
        "trusted": true
      },
      "outputs": [],
      "source": [
        "xg = XGBClassifier()"
      ]
    },
    {
      "cell_type": "code",
      "execution_count": null,
      "metadata": {
        "execution": {
          "iopub.execute_input": "2023-10-01T16:09:16.275744Z",
          "iopub.status.busy": "2023-10-01T16:09:16.275147Z",
          "iopub.status.idle": "2023-10-01T16:09:16.287217Z",
          "shell.execute_reply": "2023-10-01T16:09:16.286156Z",
          "shell.execute_reply.started": "2023-10-01T16:09:16.275716Z"
        },
        "id": "cKdWQzrZmeGu",
        "trusted": true
      },
      "outputs": [],
      "source": [
        "param_grid = {\n",
        "     'booster': ['gbtree', 'gblinear','dart'],\n",
        "}"
      ]
    },
    {
      "cell_type": "code",
      "execution_count": null,
      "metadata": {
        "execution": {
          "iopub.execute_input": "2023-10-01T16:09:16.289855Z",
          "iopub.status.busy": "2023-10-01T16:09:16.289356Z",
          "iopub.status.idle": "2023-10-01T16:09:16.300698Z",
          "shell.execute_reply": "2023-10-01T16:09:16.29956Z",
          "shell.execute_reply.started": "2023-10-01T16:09:16.289821Z"
        },
        "id": "UDaoNrWemeGu",
        "trusted": true
      },
      "outputs": [],
      "source": [
        "CV_xg = GridSearchCV(estimator=xg, param_grid=param_grid, cv=StratifiedKFold(n_splits=5))"
      ]
    },
    {
      "cell_type": "code",
      "execution_count": null,
      "metadata": {
        "execution": {
          "iopub.execute_input": "2023-10-01T16:09:16.302532Z",
          "iopub.status.busy": "2023-10-01T16:09:16.30202Z",
          "iopub.status.idle": "2023-10-01T16:09:16.314752Z",
          "shell.execute_reply": "2023-10-01T16:09:16.31371Z",
          "shell.execute_reply.started": "2023-10-01T16:09:16.302492Z"
        },
        "id": "DwYOsqnFmeGu",
        "trusted": true
      },
      "outputs": [],
      "source": [
        "pipefinalxg= make_pipeline(col_trans, CV_xg)\n",
        "pipefinalxg.fit(X_train, y_train)"
      ]
    },
    {
      "cell_type": "code",
      "execution_count": null,
      "metadata": {
        "execution": {
          "iopub.execute_input": "2023-10-01T16:09:16.317053Z",
          "iopub.status.busy": "2023-10-01T16:09:16.316268Z",
          "iopub.status.idle": "2023-10-01T16:09:16.327904Z",
          "shell.execute_reply": "2023-10-01T16:09:16.326907Z",
          "shell.execute_reply.started": "2023-10-01T16:09:16.317011Z"
        },
        "id": "nsv2LCpsmeGv",
        "trusted": true
      },
      "outputs": [],
      "source": [
        "print(CV_xg.best_params_)\n",
        "print(CV_xg.best_score_)"
      ]
    },
    {
      "cell_type": "code",
      "execution_count": null,
      "metadata": {
        "execution": {
          "iopub.execute_input": "2023-10-01T16:09:16.330039Z",
          "iopub.status.busy": "2023-10-01T16:09:16.329386Z",
          "iopub.status.idle": "2023-10-01T16:09:16.343058Z",
          "shell.execute_reply": "2023-10-01T16:09:16.341819Z",
          "shell.execute_reply.started": "2023-10-01T16:09:16.330002Z"
        },
        "id": "fBEV5gntmeGv",
        "trusted": true
      },
      "outputs": [],
      "source": [
        "abc = AdaBoostClassifier()"
      ]
    },
    {
      "cell_type": "code",
      "execution_count": null,
      "metadata": {
        "execution": {
          "iopub.execute_input": "2023-10-01T16:09:16.346305Z",
          "iopub.status.busy": "2023-10-01T16:09:16.344891Z",
          "iopub.status.idle": "2023-10-01T16:09:16.357771Z",
          "shell.execute_reply": "2023-10-01T16:09:16.357021Z",
          "shell.execute_reply.started": "2023-10-01T16:09:16.346224Z"
        },
        "id": "VHPCO3MlmeGv",
        "trusted": true
      },
      "outputs": [],
      "source": [
        "dtc_2 = DecisionTreeClassifier(criterion = 'entropy', max_depth=10,min_samples_leaf=4, min_samples_split=10)\n",
        "svc_2 = SVC(probability=True, C=10, kernel='rbf')\n",
        "lr_2 = LogisticRegression(C=0.1)\n",
        "lr_3 = LogisticRegression(C=0.2)\n",
        "lr_4 = LogisticRegression(C=0.05)"
      ]
    },
    {
      "cell_type": "code",
      "execution_count": null,
      "metadata": {
        "execution": {
          "iopub.execute_input": "2023-10-01T16:09:16.359684Z",
          "iopub.status.busy": "2023-10-01T16:09:16.359171Z",
          "iopub.status.idle": "2023-10-01T16:09:16.373426Z",
          "shell.execute_reply": "2023-10-01T16:09:16.372382Z",
          "shell.execute_reply.started": "2023-10-01T16:09:16.359645Z"
        },
        "id": "RvaA9lilmeGv",
        "trusted": true
      },
      "outputs": [],
      "source": [
        "param_grid = {\n",
        "    'estimator': [dtc_2, svc_2, lr_2],\n",
        "    'n_estimators':  [5, 10, 25, 50, 100],\n",
        "    'algorithm': ['SAMME', 'SAMME.R'],\n",
        "    'learning_rate': [(0.97 + x / 100) for x in range(1, 7)]\n",
        "}\n"
      ]
    },
    {
      "cell_type": "code",
      "execution_count": null,
      "metadata": {
        "execution": {
          "iopub.execute_input": "2023-10-01T16:09:16.375138Z",
          "iopub.status.busy": "2023-10-01T16:09:16.374403Z",
          "iopub.status.idle": "2023-10-01T16:09:16.386611Z",
          "shell.execute_reply": "2023-10-01T16:09:16.385869Z",
          "shell.execute_reply.started": "2023-10-01T16:09:16.375109Z"
        },
        "id": "uGdo_1nVmeGv",
        "trusted": true
      },
      "outputs": [],
      "source": [
        "CV_abc = GridSearchCV(estimator=abc, param_grid=param_grid, cv=StratifiedKFold(n_splits=5))"
      ]
    },
    {
      "cell_type": "code",
      "execution_count": null,
      "metadata": {
        "execution": {
          "iopub.execute_input": "2023-10-01T16:09:16.388317Z",
          "iopub.status.busy": "2023-10-01T16:09:16.387832Z",
          "iopub.status.idle": "2023-10-01T16:26:01.536173Z",
          "shell.execute_reply": "2023-10-01T16:26:01.535086Z",
          "shell.execute_reply.started": "2023-10-01T16:09:16.388282Z"
        },
        "id": "Nln48khcmeGv",
        "trusted": true
      },
      "outputs": [],
      "source": [
        "pipefinalabc= make_pipeline(col_trans, CV_abc)\n",
        "pipefinalabc.fit(X_train, y_train)"
      ]
    },
    {
      "cell_type": "code",
      "execution_count": null,
      "metadata": {
        "execution": {
          "iopub.execute_input": "2023-10-01T16:26:01.538423Z",
          "iopub.status.busy": "2023-10-01T16:26:01.537764Z",
          "iopub.status.idle": "2023-10-01T16:26:01.544454Z",
          "shell.execute_reply": "2023-10-01T16:26:01.543373Z",
          "shell.execute_reply.started": "2023-10-01T16:26:01.538375Z"
        },
        "id": "4XDVgPgomeGv",
        "trusted": true
      },
      "outputs": [],
      "source": [
        "print(CV_abc.best_params_)\n",
        "print(CV_abc.best_score_)"
      ]
    },
    {
      "cell_type": "code",
      "execution_count": null,
      "metadata": {
        "execution": {
          "iopub.execute_input": "2023-10-01T16:26:01.545951Z",
          "iopub.status.busy": "2023-10-01T16:26:01.545545Z",
          "iopub.status.idle": "2023-10-01T16:26:01.558564Z",
          "shell.execute_reply": "2023-10-01T16:26:01.557686Z",
          "shell.execute_reply.started": "2023-10-01T16:26:01.545921Z"
        },
        "id": "HUb26S69meGv",
        "trusted": true
      },
      "outputs": [],
      "source": [
        "etc = ExtraTreesClassifier()"
      ]
    },
    {
      "cell_type": "code",
      "execution_count": null,
      "metadata": {
        "execution": {
          "iopub.execute_input": "2023-10-01T16:58:23.697242Z",
          "iopub.status.busy": "2023-10-01T16:58:23.69676Z",
          "iopub.status.idle": "2023-10-01T16:58:23.703307Z",
          "shell.execute_reply": "2023-10-01T16:58:23.702061Z",
          "shell.execute_reply.started": "2023-10-01T16:58:23.697204Z"
        },
        "id": "XHwYWYW6meGv",
        "trusted": true
      },
      "outputs": [],
      "source": [
        "param_grid = {\n",
        "              \"max_features\": [1, 3, 10],\n",
        "              \"min_samples_split\": [2, 3, 10],\n",
        "              \"min_samples_leaf\": [1, 3, 10],\n",
        "              \"n_estimators\" :[100,300],\n",
        "}"
      ]
    },
    {
      "cell_type": "code",
      "execution_count": null,
      "metadata": {
        "execution": {
          "iopub.execute_input": "2023-10-01T16:58:28.220999Z",
          "iopub.status.busy": "2023-10-01T16:58:28.220603Z",
          "iopub.status.idle": "2023-10-01T16:58:28.226432Z",
          "shell.execute_reply": "2023-10-01T16:58:28.225406Z",
          "shell.execute_reply.started": "2023-10-01T16:58:28.220967Z"
        },
        "id": "1ymz3tT4meGv",
        "trusted": true
      },
      "outputs": [],
      "source": [
        "CV_etc = GridSearchCV(estimator=etc, param_grid=param_grid, cv=StratifiedKFold(n_splits=5))"
      ]
    },
    {
      "cell_type": "code",
      "execution_count": null,
      "metadata": {
        "execution": {
          "iopub.execute_input": "2023-10-01T16:58:30.329031Z",
          "iopub.status.busy": "2023-10-01T16:58:30.328649Z",
          "iopub.status.idle": "2023-10-01T16:59:45.623538Z",
          "shell.execute_reply": "2023-10-01T16:59:45.622387Z",
          "shell.execute_reply.started": "2023-10-01T16:58:30.329005Z"
        },
        "id": "NQkXwOjlmeGv",
        "trusted": true
      },
      "outputs": [],
      "source": [
        "pipefinaletc= make_pipeline(col_trans, CV_etc)\n",
        "pipefinaletc.fit(X_train, y_train)"
      ]
    },
    {
      "cell_type": "code",
      "execution_count": null,
      "metadata": {
        "execution": {
          "iopub.execute_input": "2023-10-01T16:59:45.625952Z",
          "iopub.status.busy": "2023-10-01T16:59:45.62554Z",
          "iopub.status.idle": "2023-10-01T16:59:45.631659Z",
          "shell.execute_reply": "2023-10-01T16:59:45.630655Z",
          "shell.execute_reply.started": "2023-10-01T16:59:45.625915Z"
        },
        "id": "_OtfSVxDmeGv",
        "trusted": true
      },
      "outputs": [],
      "source": [
        "print(CV_etc.best_params_)\n",
        "print(CV_etc.best_score_)"
      ]
    },
    {
      "cell_type": "code",
      "execution_count": null,
      "metadata": {
        "execution": {
          "iopub.execute_input": "2023-10-01T16:59:45.633414Z",
          "iopub.status.busy": "2023-10-01T16:59:45.632909Z",
          "iopub.status.idle": "2023-10-01T16:59:45.645852Z",
          "shell.execute_reply": "2023-10-01T16:59:45.644749Z",
          "shell.execute_reply.started": "2023-10-01T16:59:45.633386Z"
        },
        "id": "jQdlDeqbmeGv",
        "trusted": true
      },
      "outputs": [],
      "source": [
        "GBC = GradientBoostingClassifier()"
      ]
    },
    {
      "cell_type": "code",
      "execution_count": null,
      "metadata": {
        "execution": {
          "iopub.execute_input": "2023-10-01T16:59:45.648278Z",
          "iopub.status.busy": "2023-10-01T16:59:45.647958Z",
          "iopub.status.idle": "2023-10-01T16:59:45.660679Z",
          "shell.execute_reply": "2023-10-01T16:59:45.659837Z",
          "shell.execute_reply.started": "2023-10-01T16:59:45.64825Z"
        },
        "id": "wHbgs1xVmeGw",
        "trusted": true
      },
      "outputs": [],
      "source": [
        "param_grid = {\n",
        "              'n_estimators' : [300, 400, 500],\n",
        "              'learning_rate': [ 0.1, 0.3, 0.6, 1.0],\n",
        "              'max_depth': [8, 10, 12],\n",
        "              'min_samples_leaf': [50, 100, 120, 150],\n",
        "              'max_features': [0.1, 0.3, 0.5]\n",
        "              }\n"
      ]
    },
    {
      "cell_type": "code",
      "execution_count": null,
      "metadata": {
        "execution": {
          "iopub.execute_input": "2023-10-01T16:59:45.662935Z",
          "iopub.status.busy": "2023-10-01T16:59:45.662253Z",
          "iopub.status.idle": "2023-10-01T16:59:45.673722Z",
          "shell.execute_reply": "2023-10-01T16:59:45.672947Z",
          "shell.execute_reply.started": "2023-10-01T16:59:45.662895Z"
        },
        "id": "bsUf88dlmeGw",
        "trusted": true
      },
      "outputs": [],
      "source": [
        "CV_gbc = GridSearchCV(estimator=GBC, param_grid=param_grid, cv=StratifiedKFold(n_splits=5))"
      ]
    },
    {
      "cell_type": "code",
      "execution_count": null,
      "metadata": {
        "execution": {
          "iopub.execute_input": "2023-10-01T16:59:45.675664Z",
          "iopub.status.busy": "2023-10-01T16:59:45.67526Z",
          "iopub.status.idle": "2023-10-01T17:09:43.555486Z",
          "shell.execute_reply": "2023-10-01T17:09:43.554411Z",
          "shell.execute_reply.started": "2023-10-01T16:59:45.675616Z"
        },
        "id": "o-yhble5meGw",
        "trusted": true
      },
      "outputs": [],
      "source": [
        "pipefinalgbc= make_pipeline(col_trans, CV_gbc)\n",
        "pipefinalgbc.fit(X_train, y_train)"
      ]
    },
    {
      "cell_type": "code",
      "execution_count": null,
      "metadata": {
        "execution": {
          "iopub.execute_input": "2023-10-01T17:09:43.557353Z",
          "iopub.status.busy": "2023-10-01T17:09:43.556664Z",
          "iopub.status.idle": "2023-10-01T17:09:43.562453Z",
          "shell.execute_reply": "2023-10-01T17:09:43.561359Z",
          "shell.execute_reply.started": "2023-10-01T17:09:43.557325Z"
        },
        "id": "Z5_ziRv2meGw",
        "trusted": true
      },
      "outputs": [],
      "source": [
        "print(CV_gbc.best_params_)\n",
        "print(CV_gbc.best_score_)"
      ]
    },
    {
      "cell_type": "code",
      "execution_count": null,
      "metadata": {
        "execution": {
          "iopub.execute_input": "2023-10-01T17:13:52.676202Z",
          "iopub.status.busy": "2023-10-01T17:13:52.675815Z",
          "iopub.status.idle": "2023-10-01T17:13:52.682134Z",
          "shell.execute_reply": "2023-10-01T17:13:52.680979Z",
          "shell.execute_reply.started": "2023-10-01T17:13:52.676172Z"
        },
        "id": "-qHOZyW8meGw",
        "trusted": true
      },
      "outputs": [],
      "source": [
        "vc1 = VotingClassifier([('gbc', CV_gbc.best_estimator_),\n",
        "                        ('etc', CV_etc.best_estimator_),\n",
        "                          ('nb', CV_gnb.best_estimator_)\n",
        "                         ], voting='hard', weights=[1,2,3] )"
      ]
    },
    {
      "cell_type": "code",
      "execution_count": null,
      "metadata": {
        "execution": {
          "iopub.execute_input": "2023-10-01T17:13:55.336742Z",
          "iopub.status.busy": "2023-10-01T17:13:55.336354Z",
          "iopub.status.idle": "2023-10-01T17:13:55.342294Z",
          "shell.execute_reply": "2023-10-01T17:13:55.341147Z",
          "shell.execute_reply.started": "2023-10-01T17:13:55.336708Z"
        },
        "id": "mo01WNtlmeGw",
        "trusted": true
      },
      "outputs": [],
      "source": [
        "vc2 = VotingClassifier([('abc', CV_abc.best_estimator_),\n",
        "                        ('etc', CV_etc.best_estimator_),\n",
        "                          ('nb', CV_gnb.best_estimator_)\n",
        "                         ], voting='hard', weights=[1,2,3] )\n",
        "#1,2,3 is the best performing one"
      ]
    },
    {
      "cell_type": "code",
      "execution_count": null,
      "metadata": {
        "execution": {
          "iopub.execute_input": "2023-10-01T17:13:59.87306Z",
          "iopub.status.busy": "2023-10-01T17:13:59.87255Z",
          "iopub.status.idle": "2023-10-01T17:13:59.877994Z",
          "shell.execute_reply": "2023-10-01T17:13:59.876682Z",
          "shell.execute_reply.started": "2023-10-01T17:13:59.873028Z"
        },
        "id": "e4q70Zo8meGw",
        "trusted": true
      },
      "outputs": [],
      "source": [
        "pipefinalcv1 = make_pipeline(col_trans, vc1)"
      ]
    },
    {
      "cell_type": "code",
      "execution_count": null,
      "metadata": {
        "execution": {
          "iopub.execute_input": "2023-10-01T17:14:03.85773Z",
          "iopub.status.busy": "2023-10-01T17:14:03.856657Z",
          "iopub.status.idle": "2023-10-01T17:14:03.862004Z",
          "shell.execute_reply": "2023-10-01T17:14:03.86105Z",
          "shell.execute_reply.started": "2023-10-01T17:14:03.857694Z"
        },
        "id": "nC3J73YcmeGw",
        "trusted": true
      },
      "outputs": [],
      "source": [
        "pipefinalcv2 = make_pipeline(col_trans, vc2)"
      ]
    },
    {
      "cell_type": "code",
      "execution_count": null,
      "metadata": {
        "execution": {
          "iopub.execute_input": "2023-10-01T17:14:06.573109Z",
          "iopub.status.busy": "2023-10-01T17:14:06.572717Z",
          "iopub.status.idle": "2023-10-01T17:14:07.417386Z",
          "shell.execute_reply": "2023-10-01T17:14:07.416227Z",
          "shell.execute_reply.started": "2023-10-01T17:14:06.573079Z"
        },
        "id": "iQe84SpAmeGw",
        "trusted": true
      },
      "outputs": [],
      "source": [
        "pipefinalcv1.fit(X_train, y_train)"
      ]
    },
    {
      "cell_type": "code",
      "execution_count": null,
      "metadata": {
        "execution": {
          "iopub.execute_input": "2023-10-01T17:14:10.785Z",
          "iopub.status.busy": "2023-10-01T17:14:10.784582Z",
          "iopub.status.idle": "2023-10-01T17:14:11.462162Z",
          "shell.execute_reply": "2023-10-01T17:14:11.461434Z",
          "shell.execute_reply.started": "2023-10-01T17:14:10.784966Z"
        },
        "id": "FeMcZn5HmeGw",
        "trusted": true
      },
      "outputs": [],
      "source": [
        "pipefinalcv2.fit(X_train, y_train)"
      ]
    },
    {
      "cell_type": "code",
      "execution_count": null,
      "metadata": {
        "execution": {
          "iopub.execute_input": "2023-10-01T17:14:13.983938Z",
          "iopub.status.busy": "2023-10-01T17:14:13.982971Z",
          "iopub.status.idle": "2023-10-01T17:14:14.180368Z",
          "shell.execute_reply": "2023-10-01T17:14:14.179283Z",
          "shell.execute_reply.started": "2023-10-01T17:14:13.983895Z"
        },
        "id": "IawCei7dmeGw",
        "trusted": true
      },
      "outputs": [],
      "source": [
        "Y_pred = pipefinalrfc.predict(X_test)\n",
        "Y_pred2 = pipefinaldtc.predict(X_test)\n",
        "Y_pred3 = pipefinalknn.predict(X_test)\n",
        "Y_pred4 = pipefinalsvc.predict(X_test)\n",
        "Y_pred5 = pipefinallr.predict(X_test)\n",
        "Y_pred6 = pipefinalgnb.predict(X_test)\n",
        "Y_pred7 = pipefinalxg.predict(X_test)\n",
        "Y_pred8 = pipefinalabc.predict(X_test)\n",
        "Y_pred9 = pipefinaletc.predict(X_test)\n",
        "Y_pred10 = pipefinalgbc.predict(X_test)\n",
        "Y_pred11 = pipefinalcv1.predict(X_test)\n",
        "Y_pred12 = pipefinalcv2.predict(X_test)"
      ]
    },
    {
      "cell_type": "code",
      "execution_count": null,
      "metadata": {
        "execution": {
          "iopub.execute_input": "2023-10-01T17:14:16.889323Z",
          "iopub.status.busy": "2023-10-01T17:14:16.888948Z",
          "iopub.status.idle": "2023-10-01T17:14:16.897633Z",
          "shell.execute_reply": "2023-10-01T17:14:16.896564Z",
          "shell.execute_reply.started": "2023-10-01T17:14:16.889292Z"
        },
        "id": "_mIXqCQSmeGx",
        "trusted": true
      },
      "outputs": [],
      "source": [
        "submission = pd.DataFrame({\n",
        "    'PassengerId': test_df['PassengerId'],\n",
        "    'Survived': Y_pred\n",
        "})\n",
        "\n",
        "submission2 = pd.DataFrame({\n",
        "    'PassengerId': test_df['PassengerId'],\n",
        "    'Survived': Y_pred2\n",
        "})\n",
        "\n",
        "submission3 = pd.DataFrame({\n",
        "    'PassengerId': test_df['PassengerId'],\n",
        "    'Survived': Y_pred3\n",
        "})\n",
        "\n",
        "submission4 = pd.DataFrame({\n",
        "    'PassengerId': test_df['PassengerId'],\n",
        "    'Survived': Y_pred4\n",
        "})\n",
        "\n",
        "submission5 = pd.DataFrame({\n",
        "    'PassengerId': test_df['PassengerId'],\n",
        "    'Survived': Y_pred5\n",
        "})\n",
        "\n",
        "submission6 = pd.DataFrame({\n",
        "    'PassengerId': test_df['PassengerId'],\n",
        "    'Survived': Y_pred6\n",
        "})\n",
        "\n",
        "submission7 = pd.DataFrame({\n",
        "    'PassengerId': test_df['PassengerId'],\n",
        "    'Survived': Y_pred7\n",
        "})\n",
        "\n",
        "submission8 = pd.DataFrame({\n",
        "    'PassengerId': test_df['PassengerId'],\n",
        "    'Survived': Y_pred8\n",
        "})\n",
        "\n",
        "submission9 = pd.DataFrame({\n",
        "    'PassengerId': test_df['PassengerId'],\n",
        "    'Survived': Y_pred9\n",
        "})\n",
        "\n",
        "submission10 = pd.DataFrame({\n",
        "    'PassengerId': test_df['PassengerId'],\n",
        "    'Survived': Y_pred10\n",
        "})\n",
        "\n",
        "submission11 = pd.DataFrame({\n",
        "        \"PassengerId\": test_df[\"PassengerId\"],\n",
        "        \"Survived\": Y_pred11\n",
        "})\n",
        "\n",
        "submission12 = pd.DataFrame({\n",
        "        \"PassengerId\": test_df[\"PassengerId\"],\n",
        "        \"Survived\": Y_pred12\n",
        "})"
      ]
    },
    {
      "cell_type": "code",
      "execution_count": null,
      "metadata": {
        "execution": {
          "iopub.execute_input": "2023-10-01T17:14:23.993856Z",
          "iopub.status.busy": "2023-10-01T17:14:23.993492Z",
          "iopub.status.idle": "2023-10-01T17:14:24.008229Z",
          "shell.execute_reply": "2023-10-01T17:14:24.007304Z",
          "shell.execute_reply.started": "2023-10-01T17:14:23.993828Z"
        },
        "id": "zzki9DQumeGx",
        "trusted": true
      },
      "outputs": [],
      "source": [
        "submission.to_csv('/kaggle/working/submission929_1.csv', index=False)\n",
        "submission2.to_csv('/kaggle/working/submission929_2.csv', index=False)\n",
        "submission3.to_csv('/kaggle/working/submission929_3.csv', index=False)\n",
        "submission4.to_csv('/kaggle/working/submission929_4.csv', index=False)\n",
        "submission5.to_csv('/kaggle/working/submission929_5.csv', index=False)\n",
        "submission6.to_csv('/kaggle/working/submission929_6.csv', index=False)\n",
        "submission7.to_csv('/kaggle/working/submission929_7.csv', index=False)\n",
        "submission8.to_csv('/kaggle/working/submission101_8.csv', index=False)\n",
        "submission9.to_csv('/kaggle/working/submission101_9.csv', index=False)\n",
        "submission10.to_csv('/kaggle/working/submission101_10.csv', index=False)\n",
        "submission11.to_csv('/kaggle/working/submission101_11.csv', index=False)\n",
        "submission12.to_csv('/kaggle/working/submission101_12.csv', index=False)"
      ]
    },
    {
      "cell_type": "code",
      "execution_count": null,
      "metadata": {
        "id": "NkLES7ZgmeGx"
      },
      "outputs": [],
      "source": []
    }
  ],
  "metadata": {
    "colab": {
      "name": "Titanic - Voting Classifier 0.78947",
      "provenance": []
    },
    "kernelspec": {
      "display_name": "Python 3",
      "language": "python",
      "name": "python3"
    },
    "language_info": {
      "codemirror_mode": {
        "name": "ipython",
        "version": 3
      },
      "file_extension": ".py",
      "mimetype": "text/x-python",
      "name": "python",
      "nbconvert_exporter": "python",
      "pygments_lexer": "ipython3",
      "version": "3.6.4"
    }
  },
  "nbformat": 4,
  "nbformat_minor": 0
}
